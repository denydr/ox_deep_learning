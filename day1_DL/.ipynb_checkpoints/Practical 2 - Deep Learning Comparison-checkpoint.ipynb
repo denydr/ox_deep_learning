{
 "cells": [
  {
   "cell_type": "markdown",
   "id": "76c81f86-bf33-4bfa-b5dc-76b0cbf31b6b",
   "metadata": {},
   "source": [
    "# Deep Learning"
   ]
  },
  {
   "cell_type": "markdown",
   "id": "6b6d18e9-3776-4dbc-8e7e-94ef4bce3b0c",
   "metadata": {},
   "source": [
    "Deep learning is a subset of machine learning that deals with neural networks. Technically, it deals with neural networks with at least three layers: an input layer, an output layer, and at least one hidden layer. Almost all neural networks meet this loose criteria, and thus, you can think of deep learning as the branch of machine learning that concerns neural networks."
   ]
  },
  {
   "cell_type": "markdown",
   "id": "db5c5903-1e85-42b3-a2af-cafe0d75002f",
   "metadata": {
    "tags": []
   },
   "source": [
    "## 1 | Install New Dependencies"
   ]
  },
  {
   "cell_type": "code",
   "execution_count": 1,
   "id": "bfb7fdb2-e9cd-4a68-bfd5-75d8a6423a2e",
   "metadata": {},
   "outputs": [
    {
     "name": "stdout",
     "output_type": "stream",
     "text": [
      "Requirement already satisfied: keras in c:\\users\\atoth\\anaconda3\\lib\\site-packages (3.4.1)\n",
      "Requirement already satisfied: tensorflow in c:\\users\\atoth\\anaconda3\\lib\\site-packages (2.17.0)\n",
      "Requirement already satisfied: absl-py in c:\\users\\atoth\\anaconda3\\lib\\site-packages (from keras) (2.1.0)\n",
      "Requirement already satisfied: numpy in c:\\users\\atoth\\anaconda3\\lib\\site-packages (from keras) (1.26.4)\n",
      "Requirement already satisfied: rich in c:\\users\\atoth\\anaconda3\\lib\\site-packages (from keras) (13.3.5)\n",
      "Requirement already satisfied: namex in c:\\users\\atoth\\anaconda3\\lib\\site-packages (from keras) (0.0.8)\n",
      "Requirement already satisfied: h5py in c:\\users\\atoth\\anaconda3\\lib\\site-packages (from keras) (3.11.0)\n",
      "Requirement already satisfied: optree in c:\\users\\atoth\\anaconda3\\lib\\site-packages (from keras) (0.12.1)\n",
      "Requirement already satisfied: ml-dtypes in c:\\users\\atoth\\anaconda3\\lib\\site-packages (from keras) (0.4.0)\n",
      "Requirement already satisfied: packaging in c:\\users\\atoth\\anaconda3\\lib\\site-packages (from keras) (23.2)\n",
      "Requirement already satisfied: tensorflow-intel==2.17.0 in c:\\users\\atoth\\anaconda3\\lib\\site-packages (from tensorflow) (2.17.0)\n",
      "Requirement already satisfied: astunparse>=1.6.0 in c:\\users\\atoth\\anaconda3\\lib\\site-packages (from tensorflow-intel==2.17.0->tensorflow) (1.6.3)\n",
      "Requirement already satisfied: flatbuffers>=24.3.25 in c:\\users\\atoth\\anaconda3\\lib\\site-packages (from tensorflow-intel==2.17.0->tensorflow) (24.3.25)\n",
      "Requirement already satisfied: gast!=0.5.0,!=0.5.1,!=0.5.2,>=0.2.1 in c:\\users\\atoth\\anaconda3\\lib\\site-packages (from tensorflow-intel==2.17.0->tensorflow) (0.6.0)\n",
      "Requirement already satisfied: google-pasta>=0.1.1 in c:\\users\\atoth\\anaconda3\\lib\\site-packages (from tensorflow-intel==2.17.0->tensorflow) (0.2.0)\n",
      "Requirement already satisfied: libclang>=13.0.0 in c:\\users\\atoth\\anaconda3\\lib\\site-packages (from tensorflow-intel==2.17.0->tensorflow) (18.1.1)\n",
      "Requirement already satisfied: opt-einsum>=2.3.2 in c:\\users\\atoth\\anaconda3\\lib\\site-packages (from tensorflow-intel==2.17.0->tensorflow) (3.3.0)\n",
      "Requirement already satisfied: protobuf!=4.21.0,!=4.21.1,!=4.21.2,!=4.21.3,!=4.21.4,!=4.21.5,<5.0.0dev,>=3.20.3 in c:\\users\\atoth\\anaconda3\\lib\\site-packages (from tensorflow-intel==2.17.0->tensorflow) (3.20.3)\n",
      "Requirement already satisfied: requests<3,>=2.21.0 in c:\\users\\atoth\\anaconda3\\lib\\site-packages (from tensorflow-intel==2.17.0->tensorflow) (2.32.2)\n",
      "Requirement already satisfied: setuptools in c:\\users\\atoth\\anaconda3\\lib\\site-packages (from tensorflow-intel==2.17.0->tensorflow) (69.5.1)\n",
      "Requirement already satisfied: six>=1.12.0 in c:\\users\\atoth\\anaconda3\\lib\\site-packages (from tensorflow-intel==2.17.0->tensorflow) (1.16.0)\n",
      "Requirement already satisfied: termcolor>=1.1.0 in c:\\users\\atoth\\anaconda3\\lib\\site-packages (from tensorflow-intel==2.17.0->tensorflow) (2.4.0)\n",
      "Requirement already satisfied: typing-extensions>=3.6.6 in c:\\users\\atoth\\anaconda3\\lib\\site-packages (from tensorflow-intel==2.17.0->tensorflow) (4.11.0)\n",
      "Requirement already satisfied: wrapt>=1.11.0 in c:\\users\\atoth\\anaconda3\\lib\\site-packages (from tensorflow-intel==2.17.0->tensorflow) (1.14.1)\n",
      "Requirement already satisfied: grpcio<2.0,>=1.24.3 in c:\\users\\atoth\\anaconda3\\lib\\site-packages (from tensorflow-intel==2.17.0->tensorflow) (1.65.4)\n",
      "Requirement already satisfied: tensorboard<2.18,>=2.17 in c:\\users\\atoth\\anaconda3\\lib\\site-packages (from tensorflow-intel==2.17.0->tensorflow) (2.17.0)\n",
      "Requirement already satisfied: markdown-it-py<3.0.0,>=2.2.0 in c:\\users\\atoth\\anaconda3\\lib\\site-packages (from rich->keras) (2.2.0)\n",
      "Requirement already satisfied: pygments<3.0.0,>=2.13.0 in c:\\users\\atoth\\anaconda3\\lib\\site-packages (from rich->keras) (2.15.1)\n",
      "Requirement already satisfied: wheel<1.0,>=0.23.0 in c:\\users\\atoth\\anaconda3\\lib\\site-packages (from astunparse>=1.6.0->tensorflow-intel==2.17.0->tensorflow) (0.43.0)\n",
      "Requirement already satisfied: mdurl~=0.1 in c:\\users\\atoth\\anaconda3\\lib\\site-packages (from markdown-it-py<3.0.0,>=2.2.0->rich->keras) (0.1.0)\n",
      "Requirement already satisfied: charset-normalizer<4,>=2 in c:\\users\\atoth\\anaconda3\\lib\\site-packages (from requests<3,>=2.21.0->tensorflow-intel==2.17.0->tensorflow) (2.0.4)\n",
      "Requirement already satisfied: idna<4,>=2.5 in c:\\users\\atoth\\anaconda3\\lib\\site-packages (from requests<3,>=2.21.0->tensorflow-intel==2.17.0->tensorflow) (3.7)\n",
      "Requirement already satisfied: urllib3<3,>=1.21.1 in c:\\users\\atoth\\anaconda3\\lib\\site-packages (from requests<3,>=2.21.0->tensorflow-intel==2.17.0->tensorflow) (1.26.19)\n",
      "Requirement already satisfied: certifi>=2017.4.17 in c:\\users\\atoth\\anaconda3\\lib\\site-packages (from requests<3,>=2.21.0->tensorflow-intel==2.17.0->tensorflow) (2024.7.4)\n",
      "Requirement already satisfied: markdown>=2.6.8 in c:\\users\\atoth\\anaconda3\\lib\\site-packages (from tensorboard<2.18,>=2.17->tensorflow-intel==2.17.0->tensorflow) (3.4.1)\n",
      "Requirement already satisfied: tensorboard-data-server<0.8.0,>=0.7.0 in c:\\users\\atoth\\anaconda3\\lib\\site-packages (from tensorboard<2.18,>=2.17->tensorflow-intel==2.17.0->tensorflow) (0.7.2)\n",
      "Requirement already satisfied: werkzeug>=1.0.1 in c:\\users\\atoth\\anaconda3\\lib\\site-packages (from tensorboard<2.18,>=2.17->tensorflow-intel==2.17.0->tensorflow) (3.0.3)\n",
      "Requirement already satisfied: MarkupSafe>=2.1.1 in c:\\users\\atoth\\anaconda3\\lib\\site-packages (from werkzeug>=1.0.1->tensorboard<2.18,>=2.17->tensorflow-intel==2.17.0->tensorflow) (2.1.3)\n",
      "Note: you may need to restart the kernel to use updated packages.\n"
     ]
    }
   ],
   "source": [
    "#Neural Network\n",
    "%pip install keras tensorflow"
   ]
  },
  {
   "cell_type": "code",
   "execution_count": 2,
   "id": "cbc4e2f2-7b5e-40ae-ae53-0b094e530efb",
   "metadata": {},
   "outputs": [
    {
     "name": "stdout",
     "output_type": "stream",
     "text": [
      "Requirement already satisfied: plotly in c:\\users\\atoth\\anaconda3\\lib\\site-packages (5.22.0)\n",
      "Requirement already satisfied: tenacity>=6.2.0 in c:\\users\\atoth\\anaconda3\\lib\\site-packages (from plotly) (8.2.2)\n",
      "Requirement already satisfied: packaging in c:\\users\\atoth\\anaconda3\\lib\\site-packages (from plotly) (23.2)\n",
      "Note: you may need to restart the kernel to use updated packages.\n"
     ]
    }
   ],
   "source": [
    "#Graphing\n",
    "%pip install plotly"
   ]
  },
  {
   "cell_type": "code",
   "execution_count": 3,
   "id": "d37228db-4749-4cfa-8800-d68955b652ea",
   "metadata": {},
   "outputs": [
    {
     "name": "stdout",
     "output_type": "stream",
     "text": [
      "Collecting nbformat\n",
      "  Using cached nbformat-5.10.4-py3-none-any.whl.metadata (3.6 kB)\n",
      "Collecting fastjsonschema>=2.15 (from nbformat)\n",
      "  Using cached fastjsonschema-2.20.0-py3-none-any.whl.metadata (2.1 kB)\n",
      "Collecting jsonschema>=2.6 (from nbformat)\n",
      "  Using cached jsonschema-4.23.0-py3-none-any.whl.metadata (7.9 kB)\n",
      "Collecting jupyter-core!=5.0.*,>=4.12 (from nbformat)\n",
      "  Using cached jupyter_core-5.7.2-py3-none-any.whl.metadata (3.4 kB)\n",
      "Collecting traitlets>=5.1 (from nbformat)\n",
      "  Using cached traitlets-5.14.3-py3-none-any.whl.metadata (10 kB)\n",
      "Collecting attrs>=22.2.0 (from jsonschema>=2.6->nbformat)\n",
      "  Downloading attrs-24.2.0-py3-none-any.whl.metadata (11 kB)\n",
      "Collecting jsonschema-specifications>=2023.03.6 (from jsonschema>=2.6->nbformat)\n",
      "  Using cached jsonschema_specifications-2023.12.1-py3-none-any.whl.metadata (3.0 kB)\n",
      "Collecting referencing>=0.28.4 (from jsonschema>=2.6->nbformat)\n",
      "  Using cached referencing-0.35.1-py3-none-any.whl.metadata (2.8 kB)\n",
      "Collecting rpds-py>=0.7.1 (from jsonschema>=2.6->nbformat)\n",
      "  Downloading rpds_py-0.20.0-cp312-none-win_amd64.whl.metadata (4.2 kB)\n",
      "Collecting platformdirs>=2.5 (from jupyter-core!=5.0.*,>=4.12->nbformat)\n",
      "  Using cached platformdirs-4.2.2-py3-none-any.whl.metadata (11 kB)\n",
      "Collecting pywin32>=300 (from jupyter-core!=5.0.*,>=4.12->nbformat)\n",
      "  Using cached pywin32-306-cp312-cp312-win_amd64.whl.metadata (6.5 kB)\n",
      "Using cached nbformat-5.10.4-py3-none-any.whl (78 kB)\n",
      "Using cached fastjsonschema-2.20.0-py3-none-any.whl (23 kB)\n",
      "Using cached jsonschema-4.23.0-py3-none-any.whl (88 kB)\n",
      "Using cached jupyter_core-5.7.2-py3-none-any.whl (28 kB)\n",
      "Using cached traitlets-5.14.3-py3-none-any.whl (85 kB)\n",
      "Downloading attrs-24.2.0-py3-none-any.whl (63 kB)\n",
      "Using cached jsonschema_specifications-2023.12.1-py3-none-any.whl (18 kB)\n",
      "Using cached platformdirs-4.2.2-py3-none-any.whl (18 kB)\n",
      "Using cached pywin32-306-cp312-cp312-win_amd64.whl (9.2 MB)\n",
      "Using cached referencing-0.35.1-py3-none-any.whl (26 kB)\n",
      "Downloading rpds_py-0.20.0-cp312-none-win_amd64.whl (214 kB)\n",
      "Installing collected packages: pywin32, fastjsonschema, traitlets, rpds-py, platformdirs, attrs, referencing, jupyter-core, jsonschema-specifications, jsonschema, nbformat\n",
      "  Attempting uninstall: pywin32\n",
      "    Found existing installation: pywin32 306\n",
      "    Uninstalling pywin32-306:\n",
      "      Successfully uninstalled pywin32-306\n",
      "  Attempting uninstall: fastjsonschema\n",
      "    Found existing installation: fastjsonschema 2.20.0\n",
      "    Uninstalling fastjsonschema-2.20.0:\n",
      "      Successfully uninstalled fastjsonschema-2.20.0\n",
      "  Attempting uninstall: traitlets\n",
      "    Found existing installation: traitlets 5.14.3\n",
      "    Uninstalling traitlets-5.14.3:\n",
      "      Successfully uninstalled traitlets-5.14.3\n",
      "  Attempting uninstall: rpds-py\n",
      "    Found existing installation: rpds-py 0.19.1\n",
      "    Uninstalling rpds-py-0.19.1:\n",
      "      Successfully uninstalled rpds-py-0.19.1\n",
      "  Attempting uninstall: platformdirs\n",
      "    Found existing installation: platformdirs 4.2.2\n",
      "    Uninstalling platformdirs-4.2.2:\n",
      "      Successfully uninstalled platformdirs-4.2.2\n",
      "  Attempting uninstall: attrs\n",
      "    Found existing installation: attrs 23.2.0\n",
      "    Uninstalling attrs-23.2.0:\n",
      "      Successfully uninstalled attrs-23.2.0\n",
      "  Attempting uninstall: referencing\n",
      "    Found existing installation: referencing 0.35.1\n",
      "    Uninstalling referencing-0.35.1:\n",
      "      Successfully uninstalled referencing-0.35.1\n",
      "  Attempting uninstall: jupyter-core\n",
      "    Found existing installation: jupyter_core 5.7.2\n",
      "    Uninstalling jupyter_core-5.7.2:\n",
      "      Successfully uninstalled jupyter_core-5.7.2\n",
      "  Attempting uninstall: jsonschema-specifications\n",
      "    Found existing installation: jsonschema-specifications 2023.12.1\n",
      "    Uninstalling jsonschema-specifications-2023.12.1:\n",
      "      Successfully uninstalled jsonschema-specifications-2023.12.1\n",
      "  Attempting uninstall: jsonschema\n",
      "    Found existing installation: jsonschema 4.23.0\n",
      "    Uninstalling jsonschema-4.23.0:\n",
      "      Successfully uninstalled jsonschema-4.23.0\n",
      "  Attempting uninstall: nbformat\n",
      "    Found existing installation: nbformat 5.10.4\n",
      "    Uninstalling nbformat-5.10.4:\n",
      "      Successfully uninstalled nbformat-5.10.4\n",
      "Successfully installed attrs-24.2.0 fastjsonschema-2.20.0 jsonschema-4.23.0 jsonschema-specifications-2023.12.1 jupyter-core-5.7.2 nbformat-5.10.4 platformdirs-4.2.2 pywin32-306 referencing-0.35.1 rpds-py-0.20.0 traitlets-5.14.3\n",
      "Note: you may need to restart the kernel to use updated packages.\n"
     ]
    },
    {
     "name": "stderr",
     "output_type": "stream",
     "text": [
      "  WARNING: Failed to remove contents in a temporary directory 'C:\\Users\\atoth\\AppData\\Local\\Temp\\pip-uninstall-b05w3jn1'.\n",
      "  You can safely remove it manually.\n",
      "  WARNING: Failed to remove contents in a temporary directory 'C:\\Users\\atoth\\anaconda3\\Lib\\site-packages\\~ywin32_system32'.\n",
      "  You can safely remove it manually.\n",
      "  WARNING: Failed to remove contents in a temporary directory 'C:\\Users\\atoth\\anaconda3\\Lib\\site-packages\\win32comext\\~hell'.\n",
      "  You can safely remove it manually.\n",
      "  WARNING: Failed to remove contents in a temporary directory 'C:\\Users\\atoth\\anaconda3\\Lib\\site-packages\\~pds'.\n",
      "  You can safely remove it manually.\n"
     ]
    }
   ],
   "source": [
    "#Fixes a glitch with the pyplot install\n",
    "%pip install --upgrade --force-reinstall nbformat"
   ]
  },
  {
   "cell_type": "markdown",
   "id": "62f0e485-8937-4fa6-a662-4852668db815",
   "metadata": {
    "tags": []
   },
   "source": [
    "## 2 | Dataset Cleaning and Exploration"
   ]
  },
  {
   "cell_type": "code",
   "execution_count": 4,
   "id": "dc125b07-ef57-4293-8009-ce13213a9391",
   "metadata": {},
   "outputs": [],
   "source": [
    "#Surpress project warnings\n",
    "import warnings\n",
    "warnings.filterwarnings(\"ignore\")"
   ]
  },
  {
   "cell_type": "code",
   "execution_count": 5,
   "id": "b5c048d4",
   "metadata": {},
   "outputs": [],
   "source": [
    "#load libraries\n",
    "import pandas as pd\n",
    "import numpy as np\n",
    "import matplotlib.pyplot as plt\n",
    "import seaborn as sns\n",
    "\n",
    "%matplotlib inline\n",
    "sns.set_style(\"whitegrid\")\n",
    "plt.style.use(\"fivethirtyeight\")"
   ]
  },
  {
   "cell_type": "code",
   "execution_count": 6,
   "id": "e0182d37",
   "metadata": {},
   "outputs": [
    {
     "data": {
      "text/html": [
       "<div>\n",
       "<style scoped>\n",
       "    .dataframe tbody tr th:only-of-type {\n",
       "        vertical-align: middle;\n",
       "    }\n",
       "\n",
       "    .dataframe tbody tr th {\n",
       "        vertical-align: top;\n",
       "    }\n",
       "\n",
       "    .dataframe thead th {\n",
       "        text-align: right;\n",
       "    }\n",
       "</style>\n",
       "<table border=\"1\" class=\"dataframe\">\n",
       "  <thead>\n",
       "    <tr style=\"text-align: right;\">\n",
       "      <th></th>\n",
       "      <th>ID</th>\n",
       "      <th>Homicide</th>\n",
       "      <th>Sex</th>\n",
       "      <th>EthnicAppearance_cleaned</th>\n",
       "      <th>Age</th>\n",
       "      <th>InitialRisk</th>\n",
       "      <th>AccHowKnown</th>\n",
       "      <th>Known 1</th>\n",
       "      <th>Known 2</th>\n",
       "      <th>ProceedingsType</th>\n",
       "      <th>Crimes in pre</th>\n",
       "      <th>Crimes in pre 1</th>\n",
       "      <th>DV in Pre</th>\n",
       "      <th>DV in Pre 1</th>\n",
       "    </tr>\n",
       "  </thead>\n",
       "  <tbody>\n",
       "    <tr>\n",
       "      <th>0</th>\n",
       "      <td>12202</td>\n",
       "      <td>No</td>\n",
       "      <td>M</td>\n",
       "      <td>Afro-Caribbean</td>\n",
       "      <td>17</td>\n",
       "      <td>H</td>\n",
       "      <td>Ex Boyfriend of victim</td>\n",
       "      <td>Boy/Girlfriend</td>\n",
       "      <td>Ex</td>\n",
       "      <td>Charge/further charge</td>\n",
       "      <td>1</td>\n",
       "      <td>Yes</td>\n",
       "      <td>0</td>\n",
       "      <td>No</td>\n",
       "    </tr>\n",
       "    <tr>\n",
       "      <th>1</th>\n",
       "      <td>12376</td>\n",
       "      <td>No</td>\n",
       "      <td>M</td>\n",
       "      <td>Afro-Caribbean</td>\n",
       "      <td>20</td>\n",
       "      <td>S</td>\n",
       "      <td>Boyfriend of victim</td>\n",
       "      <td>Boy/Girlfriend</td>\n",
       "      <td>Current</td>\n",
       "      <td>Charge/further charge</td>\n",
       "      <td>2</td>\n",
       "      <td>Yes</td>\n",
       "      <td>0</td>\n",
       "      <td>No</td>\n",
       "    </tr>\n",
       "    <tr>\n",
       "      <th>2</th>\n",
       "      <td>12567</td>\n",
       "      <td>No</td>\n",
       "      <td>M</td>\n",
       "      <td>Afro-Caribbean</td>\n",
       "      <td>21</td>\n",
       "      <td>S</td>\n",
       "      <td>Ex Boyfriend of victim</td>\n",
       "      <td>Boy/Girlfriend</td>\n",
       "      <td>Ex</td>\n",
       "      <td>Second time charged</td>\n",
       "      <td>1</td>\n",
       "      <td>Yes</td>\n",
       "      <td>0</td>\n",
       "      <td>No</td>\n",
       "    </tr>\n",
       "    <tr>\n",
       "      <th>3</th>\n",
       "      <td>12222</td>\n",
       "      <td>No</td>\n",
       "      <td>M</td>\n",
       "      <td>Afro-Caribbean</td>\n",
       "      <td>22</td>\n",
       "      <td>M</td>\n",
       "      <td>Boyfriend of victim</td>\n",
       "      <td>Boy/Girlfriend</td>\n",
       "      <td>Current</td>\n",
       "      <td>Second time charged</td>\n",
       "      <td>1</td>\n",
       "      <td>Yes</td>\n",
       "      <td>0</td>\n",
       "      <td>No</td>\n",
       "    </tr>\n",
       "    <tr>\n",
       "      <th>4</th>\n",
       "      <td>12480</td>\n",
       "      <td>Yes</td>\n",
       "      <td>M</td>\n",
       "      <td>Arab</td>\n",
       "      <td>23</td>\n",
       "      <td>S</td>\n",
       "      <td>Boyfriend of victim</td>\n",
       "      <td>Boy/Girlfriend</td>\n",
       "      <td>Current</td>\n",
       "      <td>Charge/further charge</td>\n",
       "      <td>2</td>\n",
       "      <td>Yes</td>\n",
       "      <td>0</td>\n",
       "      <td>No</td>\n",
       "    </tr>\n",
       "    <tr>\n",
       "      <th>...</th>\n",
       "      <td>...</td>\n",
       "      <td>...</td>\n",
       "      <td>...</td>\n",
       "      <td>...</td>\n",
       "      <td>...</td>\n",
       "      <td>...</td>\n",
       "      <td>...</td>\n",
       "      <td>...</td>\n",
       "      <td>...</td>\n",
       "      <td>...</td>\n",
       "      <td>...</td>\n",
       "      <td>...</td>\n",
       "      <td>...</td>\n",
       "      <td>...</td>\n",
       "    </tr>\n",
       "    <tr>\n",
       "      <th>2495</th>\n",
       "      <td>11981</td>\n",
       "      <td>Yes</td>\n",
       "      <td>M</td>\n",
       "      <td>South European - White</td>\n",
       "      <td>65</td>\n",
       "      <td>H</td>\n",
       "      <td>Husband of victim</td>\n",
       "      <td>Partner/Spouse</td>\n",
       "      <td>Current</td>\n",
       "      <td>Charge/further charge</td>\n",
       "      <td>0</td>\n",
       "      <td>No</td>\n",
       "      <td>0</td>\n",
       "      <td>No</td>\n",
       "    </tr>\n",
       "    <tr>\n",
       "      <th>2496</th>\n",
       "      <td>10398</td>\n",
       "      <td>No</td>\n",
       "      <td>M</td>\n",
       "      <td>South European - White</td>\n",
       "      <td>85</td>\n",
       "      <td>S</td>\n",
       "      <td>Husband of victim</td>\n",
       "      <td>Partner/Spouse</td>\n",
       "      <td>Current</td>\n",
       "      <td>Summons</td>\n",
       "      <td>0</td>\n",
       "      <td>No</td>\n",
       "      <td>0</td>\n",
       "      <td>No</td>\n",
       "    </tr>\n",
       "    <tr>\n",
       "      <th>2497</th>\n",
       "      <td>11141</td>\n",
       "      <td>No</td>\n",
       "      <td>M</td>\n",
       "      <td>Middle Eastern</td>\n",
       "      <td>32</td>\n",
       "      <td>M</td>\n",
       "      <td>Boyfriend of victim</td>\n",
       "      <td>Boy/Girlfriend</td>\n",
       "      <td>Current</td>\n",
       "      <td>Charge/further charge</td>\n",
       "      <td>0</td>\n",
       "      <td>No</td>\n",
       "      <td>0</td>\n",
       "      <td>No</td>\n",
       "    </tr>\n",
       "    <tr>\n",
       "      <th>2498</th>\n",
       "      <td>2145</td>\n",
       "      <td>No</td>\n",
       "      <td>F</td>\n",
       "      <td>Middle Eastern</td>\n",
       "      <td>35</td>\n",
       "      <td>S</td>\n",
       "      <td>Wife of victim</td>\n",
       "      <td>Partner/Spouse</td>\n",
       "      <td>Current</td>\n",
       "      <td>Charge/further charge</td>\n",
       "      <td>0</td>\n",
       "      <td>No</td>\n",
       "      <td>0</td>\n",
       "      <td>No</td>\n",
       "    </tr>\n",
       "    <tr>\n",
       "      <th>2499</th>\n",
       "      <td>12103</td>\n",
       "      <td>No</td>\n",
       "      <td>M</td>\n",
       "      <td>Middle Eastern</td>\n",
       "      <td>50</td>\n",
       "      <td>S</td>\n",
       "      <td>Husband of victim</td>\n",
       "      <td>Partner/Spouse</td>\n",
       "      <td>Current</td>\n",
       "      <td>Charge/further charge</td>\n",
       "      <td>0</td>\n",
       "      <td>No</td>\n",
       "      <td>0</td>\n",
       "      <td>No</td>\n",
       "    </tr>\n",
       "  </tbody>\n",
       "</table>\n",
       "<p>2500 rows × 14 columns</p>\n",
       "</div>"
      ],
      "text/plain": [
       "         ID Homicide Sex EthnicAppearance_cleaned  Age InitialRisk  \\\n",
       "0     12202       No   M           Afro-Caribbean   17           H   \n",
       "1     12376       No   M           Afro-Caribbean   20           S   \n",
       "2     12567       No   M           Afro-Caribbean   21           S   \n",
       "3     12222       No   M           Afro-Caribbean   22           M   \n",
       "4     12480      Yes   M                     Arab   23           S   \n",
       "...     ...      ...  ..                      ...  ...         ...   \n",
       "2495  11981      Yes   M   South European - White   65           H   \n",
       "2496  10398       No   M   South European - White   85           S   \n",
       "2497  11141       No   M           Middle Eastern   32           M   \n",
       "2498   2145       No   F           Middle Eastern   35           S   \n",
       "2499  12103       No   M           Middle Eastern   50           S   \n",
       "\n",
       "                 AccHowKnown         Known 1  Known 2        ProceedingsType  \\\n",
       "0     Ex Boyfriend of victim  Boy/Girlfriend       Ex  Charge/further charge   \n",
       "1        Boyfriend of victim  Boy/Girlfriend  Current  Charge/further charge   \n",
       "2     Ex Boyfriend of victim  Boy/Girlfriend       Ex    Second time charged   \n",
       "3        Boyfriend of victim  Boy/Girlfriend  Current    Second time charged   \n",
       "4        Boyfriend of victim  Boy/Girlfriend  Current  Charge/further charge   \n",
       "...                      ...             ...      ...                    ...   \n",
       "2495       Husband of victim  Partner/Spouse  Current  Charge/further charge   \n",
       "2496       Husband of victim  Partner/Spouse  Current                Summons   \n",
       "2497     Boyfriend of victim  Boy/Girlfriend  Current  Charge/further charge   \n",
       "2498          Wife of victim  Partner/Spouse  Current  Charge/further charge   \n",
       "2499       Husband of victim  Partner/Spouse  Current  Charge/further charge   \n",
       "\n",
       "      Crimes in pre Crimes in pre 1  DV in Pre DV in Pre 1  \n",
       "0                 1             Yes          0          No  \n",
       "1                 2             Yes          0          No  \n",
       "2                 1             Yes          0          No  \n",
       "3                 1             Yes          0          No  \n",
       "4                 2             Yes          0          No  \n",
       "...             ...             ...        ...         ...  \n",
       "2495              0              No          0          No  \n",
       "2496              0              No          0          No  \n",
       "2497              0              No          0          No  \n",
       "2498              0              No          0          No  \n",
       "2499              0              No          0          No  \n",
       "\n",
       "[2500 rows x 14 columns]"
      ]
     },
     "execution_count": 6,
     "metadata": {},
     "output_type": "execute_result"
    }
   ],
   "source": [
    "df = pd.read_csv(\"domestic_homicides.csv\")\n",
    "df"
   ]
  },
  {
   "cell_type": "code",
   "execution_count": 7,
   "id": "d2cde8fd",
   "metadata": {},
   "outputs": [
    {
     "data": {
      "text/plain": [
       "<Axes: xlabel='Homicide', ylabel='count'>"
      ]
     },
     "execution_count": 7,
     "metadata": {},
     "output_type": "execute_result"
    },
    {
     "data": {
      "image/png": "[encoded data removed]",
      "text/plain": [
       "<Figure size 640x480 with 1 Axes>"
      ]
     },
     "metadata": {},
     "output_type": "display_data"
    }
   ],
   "source": [
    "#Exploratory Data Analysis\n",
    "sns.countplot(x='Homicide', data=df)"
   ]
  },
  {
   "cell_type": "markdown",
   "id": "ae7f30da-32cd-4a66-9f11-4ac6c99deb60",
   "metadata": {},
   "source": [
    "This dataset is extremely imbalanced, much like during the last module"
   ]
  },
  {
   "cell_type": "code",
   "execution_count": 8,
   "id": "369ca763",
   "metadata": {},
   "outputs": [
    {
     "name": "stdout",
     "output_type": "stream",
     "text": [
      "<class 'pandas.core.frame.DataFrame'>\n",
      "RangeIndex: 2500 entries, 0 to 2499\n",
      "Data columns (total 14 columns):\n",
      " #   Column                    Non-Null Count  Dtype \n",
      "---  ------                    --------------  ----- \n",
      " 0   ID                        2500 non-null   int64 \n",
      " 1   Homicide                  2500 non-null   object\n",
      " 2   Sex                       2500 non-null   object\n",
      " 3   EthnicAppearance_cleaned  2500 non-null   object\n",
      " 4   Age                       2500 non-null   int64 \n",
      " 5   InitialRisk               2500 non-null   object\n",
      " 6   AccHowKnown               2500 non-null   object\n",
      " 7   Known 1                   2500 non-null   object\n",
      " 8   Known 2                   2500 non-null   object\n",
      " 9   ProceedingsType           2500 non-null   object\n",
      " 10  Crimes in pre             2500 non-null   int64 \n",
      " 11  Crimes in pre 1           2500 non-null   object\n",
      " 12  DV in Pre                 2500 non-null   int64 \n",
      " 13  DV in Pre 1               2500 non-null   object\n",
      "dtypes: int64(4), object(10)\n",
      "memory usage: 273.6+ KB\n"
     ]
    }
   ],
   "source": [
    "df.info()"
   ]
  },
  {
   "cell_type": "code",
   "execution_count": 9,
   "id": "12ec24e7",
   "metadata": {},
   "outputs": [
    {
     "name": "stdout",
     "output_type": "stream",
     "text": [
      "<class 'pandas.core.frame.DataFrame'>\n",
      "RangeIndex: 2500 entries, 0 to 2499\n",
      "Data columns (total 14 columns):\n",
      " #   Column                    Non-Null Count  Dtype\n",
      "---  ------                    --------------  -----\n",
      " 0   ID                        2500 non-null   int64\n",
      " 1   Homicide                  2500 non-null   int64\n",
      " 2   Sex                       2500 non-null   int64\n",
      " 3   EthnicAppearance_cleaned  2500 non-null   int64\n",
      " 4   Age                       2500 non-null   int64\n",
      " 5   InitialRisk               2500 non-null   int64\n",
      " 6   AccHowKnown               2500 non-null   int64\n",
      " 7   Known 1                   2500 non-null   int64\n",
      " 8   Known 2                   2500 non-null   int64\n",
      " 9   ProceedingsType           2500 non-null   int64\n",
      " 10  Crimes in pre             2500 non-null   int64\n",
      " 11  Crimes in pre 1           2500 non-null   int64\n",
      " 12  DV in Pre                 2500 non-null   int64\n",
      " 13  DV in Pre 1               2500 non-null   int64\n",
      "dtypes: int64(14)\n",
      "memory usage: 273.6 KB\n"
     ]
    }
   ],
   "source": [
    "# recode object columns\n",
    "df['Homicide'].replace(('No', 'Yes'), (0, 1), inplace=True)\n",
    "df['Sex'].replace(('M', 'F'), (0, 1), inplace=True)\n",
    "df['EthnicAppearance_cleaned'].replace(('Afro-Caribbean', 'Arab', 'Asian', 'Black',\n",
    "       'Chinese, Japanese or SE Asian', 'Middle Eastern',\n",
    "       'North European - White', 'South European - White', 'Unknown',\n",
    "       'White European'), (0,1,2,3,4,5,6,7,8,9), inplace=True)\n",
    "df['InitialRisk'].replace(('H', 'S', 'M', 'Unknown'), (0, 1,2,3), inplace=True)\n",
    "df['AccHowKnown'].replace(('Ex Boyfriend of victim', 'Boyfriend of victim',\n",
    "       'Husband of victim', 'Ex Girlfriend of victim',\n",
    "       'Girlfriend of victim', 'Ex Wife of victim', 'Wife of victim',\n",
    "       'Ex Husband of victim', 'Same Sex Ex intimate Partner',\n",
    "       'Ex Common Law Husband of victim', 'Common Law Husband of victim',\n",
    "       'Common Law Wife of victim', 'Civil Partner Same Sex',\n",
    "       'Ex Common Law Wife of victim', 'Same Sex Intimate Partner',\n",
    "       'Ex Civil Partner Same Sex '), (0,1,2,3,4,5,6,7,8,9,10,11,12,13,14,15), inplace=True)\n",
    "df['Known 1'].replace(('Boy/Girlfriend', 'Partner/Spouse'), (0, 1), inplace=True)\n",
    "df['Known 2'].replace(('Ex', 'Current'), (0, 1), inplace=True)\n",
    "df['ProceedingsType'].replace(('Charge/further charge', 'Second time charged', 'Adult caution',\n",
    "       'First time charged', 'Youth Conditional Caution',\n",
    "       'Third and subsequent time charged', 'Summons',\n",
    "       'Postal Charge Requisition', 'Conditional caution', 'TIC',\n",
    "       'Youth Caution'), (0,1,2,3,4,5,6,7,8,9,10), inplace=True)\n",
    "df['Crimes in pre 1'].replace(('No', 'Yes'), (0, 1), inplace=True)\n",
    "df['DV in Pre 1'].replace(('No', 'Yes'), (0, 1), inplace=True)\n",
    "\n",
    "df.info()"
   ]
  },
  {
   "cell_type": "code",
   "execution_count": 10,
   "id": "863daf6d",
   "metadata": {},
   "outputs": [
    {
     "name": "stdout",
     "output_type": "stream",
     "text": [
      "<class 'pandas.core.frame.DataFrame'>\n",
      "RangeIndex: 2500 entries, 0 to 2499\n",
      "Data columns (total 14 columns):\n",
      " #   Column                    Non-Null Count  Dtype  \n",
      "---  ------                    --------------  -----  \n",
      " 0   ID                        2500 non-null   int64  \n",
      " 1   Homicide                  2500 non-null   int64  \n",
      " 2   Sex                       2500 non-null   int64  \n",
      " 3   EthnicAppearance_cleaned  2500 non-null   int64  \n",
      " 4   Age                       2500 non-null   float32\n",
      " 5   InitialRisk               2500 non-null   int64  \n",
      " 6   AccHowKnown               2500 non-null   int64  \n",
      " 7   Known 1                   2500 non-null   int64  \n",
      " 8   Known 2                   2500 non-null   int64  \n",
      " 9   ProceedingsType           2500 non-null   int64  \n",
      " 10  Crimes in pre             2500 non-null   float32\n",
      " 11  Crimes in pre 1           2500 non-null   int64  \n",
      " 12  DV in Pre                 2500 non-null   float32\n",
      " 13  DV in Pre 1               2500 non-null   int64  \n",
      "dtypes: float32(3), int64(11)\n",
      "memory usage: 244.3 KB\n"
     ]
    }
   ],
   "source": [
    "# recode numberic columns\n",
    "df['Age'] = pd.to_numeric(df['Age'],downcast=\"float\")\n",
    "df['Crimes in pre'] = pd.to_numeric(df['Age'],downcast=\"float\")\n",
    "df['DV in Pre'] = pd.to_numeric(df['Age'],downcast=\"float\")\n",
    "\n",
    "df.info()"
   ]
  },
  {
   "cell_type": "markdown",
   "id": "45e628e7-54ea-4996-85f3-d3fe06896cf4",
   "metadata": {
    "tags": []
   },
   "source": [
    "## 3 | Create Train/Test Split and Correct Data Imbalance via SMOTE"
   ]
  },
  {
   "cell_type": "code",
   "execution_count": 11,
   "id": "a28396e7",
   "metadata": {},
   "outputs": [],
   "source": [
    "#Seperate dataset into features (X) and labels (y)\n",
    "X = df.drop(['ID', 'Homicide'], axis=1)\n",
    "y = df['Homicide']"
   ]
  },
  {
   "cell_type": "code",
   "execution_count": 12,
   "id": "4ed5445c",
   "metadata": {},
   "outputs": [
    {
     "data": {
      "text/html": [
       "<div>\n",
       "<style scoped>\n",
       "    .dataframe tbody tr th:only-of-type {\n",
       "        vertical-align: middle;\n",
       "    }\n",
       "\n",
       "    .dataframe tbody tr th {\n",
       "        vertical-align: top;\n",
       "    }\n",
       "\n",
       "    .dataframe thead th {\n",
       "        text-align: right;\n",
       "    }\n",
       "</style>\n",
       "<table border=\"1\" class=\"dataframe\">\n",
       "  <thead>\n",
       "    <tr style=\"text-align: right;\">\n",
       "      <th></th>\n",
       "      <th>Sex</th>\n",
       "      <th>EthnicAppearance_cleaned</th>\n",
       "      <th>Age</th>\n",
       "      <th>InitialRisk</th>\n",
       "      <th>AccHowKnown</th>\n",
       "      <th>Known 1</th>\n",
       "      <th>Known 2</th>\n",
       "      <th>ProceedingsType</th>\n",
       "      <th>Crimes in pre</th>\n",
       "      <th>Crimes in pre 1</th>\n",
       "      <th>DV in Pre</th>\n",
       "      <th>DV in Pre 1</th>\n",
       "    </tr>\n",
       "  </thead>\n",
       "  <tbody>\n",
       "    <tr>\n",
       "      <th>0</th>\n",
       "      <td>0</td>\n",
       "      <td>0</td>\n",
       "      <td>17.0</td>\n",
       "      <td>0</td>\n",
       "      <td>0</td>\n",
       "      <td>0</td>\n",
       "      <td>0</td>\n",
       "      <td>0</td>\n",
       "      <td>17.0</td>\n",
       "      <td>1</td>\n",
       "      <td>17.0</td>\n",
       "      <td>0</td>\n",
       "    </tr>\n",
       "    <tr>\n",
       "      <th>1</th>\n",
       "      <td>0</td>\n",
       "      <td>0</td>\n",
       "      <td>20.0</td>\n",
       "      <td>1</td>\n",
       "      <td>1</td>\n",
       "      <td>0</td>\n",
       "      <td>1</td>\n",
       "      <td>0</td>\n",
       "      <td>20.0</td>\n",
       "      <td>1</td>\n",
       "      <td>20.0</td>\n",
       "      <td>0</td>\n",
       "    </tr>\n",
       "    <tr>\n",
       "      <th>2</th>\n",
       "      <td>0</td>\n",
       "      <td>0</td>\n",
       "      <td>21.0</td>\n",
       "      <td>1</td>\n",
       "      <td>0</td>\n",
       "      <td>0</td>\n",
       "      <td>0</td>\n",
       "      <td>1</td>\n",
       "      <td>21.0</td>\n",
       "      <td>1</td>\n",
       "      <td>21.0</td>\n",
       "      <td>0</td>\n",
       "    </tr>\n",
       "    <tr>\n",
       "      <th>3</th>\n",
       "      <td>0</td>\n",
       "      <td>0</td>\n",
       "      <td>22.0</td>\n",
       "      <td>2</td>\n",
       "      <td>1</td>\n",
       "      <td>0</td>\n",
       "      <td>1</td>\n",
       "      <td>1</td>\n",
       "      <td>22.0</td>\n",
       "      <td>1</td>\n",
       "      <td>22.0</td>\n",
       "      <td>0</td>\n",
       "    </tr>\n",
       "    <tr>\n",
       "      <th>4</th>\n",
       "      <td>0</td>\n",
       "      <td>1</td>\n",
       "      <td>23.0</td>\n",
       "      <td>1</td>\n",
       "      <td>1</td>\n",
       "      <td>0</td>\n",
       "      <td>1</td>\n",
       "      <td>0</td>\n",
       "      <td>23.0</td>\n",
       "      <td>1</td>\n",
       "      <td>23.0</td>\n",
       "      <td>0</td>\n",
       "    </tr>\n",
       "    <tr>\n",
       "      <th>...</th>\n",
       "      <td>...</td>\n",
       "      <td>...</td>\n",
       "      <td>...</td>\n",
       "      <td>...</td>\n",
       "      <td>...</td>\n",
       "      <td>...</td>\n",
       "      <td>...</td>\n",
       "      <td>...</td>\n",
       "      <td>...</td>\n",
       "      <td>...</td>\n",
       "      <td>...</td>\n",
       "      <td>...</td>\n",
       "    </tr>\n",
       "    <tr>\n",
       "      <th>2495</th>\n",
       "      <td>0</td>\n",
       "      <td>7</td>\n",
       "      <td>65.0</td>\n",
       "      <td>0</td>\n",
       "      <td>2</td>\n",
       "      <td>1</td>\n",
       "      <td>1</td>\n",
       "      <td>0</td>\n",
       "      <td>65.0</td>\n",
       "      <td>0</td>\n",
       "      <td>65.0</td>\n",
       "      <td>0</td>\n",
       "    </tr>\n",
       "    <tr>\n",
       "      <th>2496</th>\n",
       "      <td>0</td>\n",
       "      <td>7</td>\n",
       "      <td>85.0</td>\n",
       "      <td>1</td>\n",
       "      <td>2</td>\n",
       "      <td>1</td>\n",
       "      <td>1</td>\n",
       "      <td>6</td>\n",
       "      <td>85.0</td>\n",
       "      <td>0</td>\n",
       "      <td>85.0</td>\n",
       "      <td>0</td>\n",
       "    </tr>\n",
       "    <tr>\n",
       "      <th>2497</th>\n",
       "      <td>0</td>\n",
       "      <td>5</td>\n",
       "      <td>32.0</td>\n",
       "      <td>2</td>\n",
       "      <td>1</td>\n",
       "      <td>0</td>\n",
       "      <td>1</td>\n",
       "      <td>0</td>\n",
       "      <td>32.0</td>\n",
       "      <td>0</td>\n",
       "      <td>32.0</td>\n",
       "      <td>0</td>\n",
       "    </tr>\n",
       "    <tr>\n",
       "      <th>2498</th>\n",
       "      <td>1</td>\n",
       "      <td>5</td>\n",
       "      <td>35.0</td>\n",
       "      <td>1</td>\n",
       "      <td>6</td>\n",
       "      <td>1</td>\n",
       "      <td>1</td>\n",
       "      <td>0</td>\n",
       "      <td>35.0</td>\n",
       "      <td>0</td>\n",
       "      <td>35.0</td>\n",
       "      <td>0</td>\n",
       "    </tr>\n",
       "    <tr>\n",
       "      <th>2499</th>\n",
       "      <td>0</td>\n",
       "      <td>5</td>\n",
       "      <td>50.0</td>\n",
       "      <td>1</td>\n",
       "      <td>2</td>\n",
       "      <td>1</td>\n",
       "      <td>1</td>\n",
       "      <td>0</td>\n",
       "      <td>50.0</td>\n",
       "      <td>0</td>\n",
       "      <td>50.0</td>\n",
       "      <td>0</td>\n",
       "    </tr>\n",
       "  </tbody>\n",
       "</table>\n",
       "<p>2500 rows × 12 columns</p>\n",
       "</div>"
      ],
      "text/plain": [
       "      Sex  EthnicAppearance_cleaned   Age  InitialRisk  AccHowKnown  Known 1  \\\n",
       "0       0                         0  17.0            0            0        0   \n",
       "1       0                         0  20.0            1            1        0   \n",
       "2       0                         0  21.0            1            0        0   \n",
       "3       0                         0  22.0            2            1        0   \n",
       "4       0                         1  23.0            1            1        0   \n",
       "...   ...                       ...   ...          ...          ...      ...   \n",
       "2495    0                         7  65.0            0            2        1   \n",
       "2496    0                         7  85.0            1            2        1   \n",
       "2497    0                         5  32.0            2            1        0   \n",
       "2498    1                         5  35.0            1            6        1   \n",
       "2499    0                         5  50.0            1            2        1   \n",
       "\n",
       "      Known 2  ProceedingsType  Crimes in pre  Crimes in pre 1  DV in Pre  \\\n",
       "0           0                0           17.0                1       17.0   \n",
       "1           1                0           20.0                1       20.0   \n",
       "2           0                1           21.0                1       21.0   \n",
       "3           1                1           22.0                1       22.0   \n",
       "4           1                0           23.0                1       23.0   \n",
       "...       ...              ...            ...              ...        ...   \n",
       "2495        1                0           65.0                0       65.0   \n",
       "2496        1                6           85.0                0       85.0   \n",
       "2497        1                0           32.0                0       32.0   \n",
       "2498        1                0           35.0                0       35.0   \n",
       "2499        1                0           50.0                0       50.0   \n",
       "\n",
       "      DV in Pre 1  \n",
       "0               0  \n",
       "1               0  \n",
       "2               0  \n",
       "3               0  \n",
       "4               0  \n",
       "...           ...  \n",
       "2495            0  \n",
       "2496            0  \n",
       "2497            0  \n",
       "2498            0  \n",
       "2499            0  \n",
       "\n",
       "[2500 rows x 12 columns]"
      ]
     },
     "execution_count": 12,
     "metadata": {},
     "output_type": "execute_result"
    }
   ],
   "source": [
    "X"
   ]
  },
  {
   "cell_type": "code",
   "execution_count": 13,
   "id": "f26513ec",
   "metadata": {},
   "outputs": [
    {
     "data": {
      "text/plain": [
       "0       0\n",
       "1       0\n",
       "2       0\n",
       "3       0\n",
       "4       1\n",
       "       ..\n",
       "2495    1\n",
       "2496    0\n",
       "2497    0\n",
       "2498    0\n",
       "2499    0\n",
       "Name: Homicide, Length: 2500, dtype: int64"
      ]
     },
     "execution_count": 13,
     "metadata": {},
     "output_type": "execute_result"
    }
   ],
   "source": [
    "y"
   ]
  },
  {
   "cell_type": "code",
   "execution_count": 14,
   "id": "f83a1ba4",
   "metadata": {},
   "outputs": [],
   "source": [
    "#Divide into X_train and y_train\n",
    "from sklearn.model_selection import train_test_split\n",
    "X_train, X_test, y_train, y_test = train_test_split(X, y, test_size=0.2, stratify=y, random_state=0)"
   ]
  },
  {
   "cell_type": "code",
   "execution_count": 15,
   "id": "4879618e",
   "metadata": {},
   "outputs": [
    {
     "data": {
      "text/html": [
       "<div>\n",
       "<style scoped>\n",
       "    .dataframe tbody tr th:only-of-type {\n",
       "        vertical-align: middle;\n",
       "    }\n",
       "\n",
       "    .dataframe tbody tr th {\n",
       "        vertical-align: top;\n",
       "    }\n",
       "\n",
       "    .dataframe thead th {\n",
       "        text-align: right;\n",
       "    }\n",
       "</style>\n",
       "<table border=\"1\" class=\"dataframe\">\n",
       "  <thead>\n",
       "    <tr style=\"text-align: right;\">\n",
       "      <th></th>\n",
       "      <th>Sex</th>\n",
       "      <th>EthnicAppearance_cleaned</th>\n",
       "      <th>Age</th>\n",
       "      <th>InitialRisk</th>\n",
       "      <th>AccHowKnown</th>\n",
       "      <th>Known 1</th>\n",
       "      <th>Known 2</th>\n",
       "      <th>ProceedingsType</th>\n",
       "      <th>Crimes in pre</th>\n",
       "      <th>Crimes in pre 1</th>\n",
       "      <th>DV in Pre</th>\n",
       "      <th>DV in Pre 1</th>\n",
       "    </tr>\n",
       "  </thead>\n",
       "  <tbody>\n",
       "    <tr>\n",
       "      <th>2032</th>\n",
       "      <td>0</td>\n",
       "      <td>6</td>\n",
       "      <td>48.0</td>\n",
       "      <td>1</td>\n",
       "      <td>0</td>\n",
       "      <td>0</td>\n",
       "      <td>0</td>\n",
       "      <td>0</td>\n",
       "      <td>48.0</td>\n",
       "      <td>0</td>\n",
       "      <td>48.0</td>\n",
       "      <td>0</td>\n",
       "    </tr>\n",
       "    <tr>\n",
       "      <th>1714</th>\n",
       "      <td>0</td>\n",
       "      <td>6</td>\n",
       "      <td>36.0</td>\n",
       "      <td>1</td>\n",
       "      <td>1</td>\n",
       "      <td>0</td>\n",
       "      <td>1</td>\n",
       "      <td>0</td>\n",
       "      <td>36.0</td>\n",
       "      <td>0</td>\n",
       "      <td>36.0</td>\n",
       "      <td>0</td>\n",
       "    </tr>\n",
       "    <tr>\n",
       "      <th>2283</th>\n",
       "      <td>0</td>\n",
       "      <td>7</td>\n",
       "      <td>37.0</td>\n",
       "      <td>1</td>\n",
       "      <td>0</td>\n",
       "      <td>0</td>\n",
       "      <td>0</td>\n",
       "      <td>0</td>\n",
       "      <td>37.0</td>\n",
       "      <td>0</td>\n",
       "      <td>37.0</td>\n",
       "      <td>0</td>\n",
       "    </tr>\n",
       "    <tr>\n",
       "      <th>1005</th>\n",
       "      <td>0</td>\n",
       "      <td>3</td>\n",
       "      <td>46.0</td>\n",
       "      <td>0</td>\n",
       "      <td>1</td>\n",
       "      <td>0</td>\n",
       "      <td>1</td>\n",
       "      <td>0</td>\n",
       "      <td>46.0</td>\n",
       "      <td>0</td>\n",
       "      <td>46.0</td>\n",
       "      <td>0</td>\n",
       "    </tr>\n",
       "    <tr>\n",
       "      <th>286</th>\n",
       "      <td>0</td>\n",
       "      <td>2</td>\n",
       "      <td>58.0</td>\n",
       "      <td>1</td>\n",
       "      <td>2</td>\n",
       "      <td>1</td>\n",
       "      <td>1</td>\n",
       "      <td>0</td>\n",
       "      <td>58.0</td>\n",
       "      <td>0</td>\n",
       "      <td>58.0</td>\n",
       "      <td>0</td>\n",
       "    </tr>\n",
       "    <tr>\n",
       "      <th>...</th>\n",
       "      <td>...</td>\n",
       "      <td>...</td>\n",
       "      <td>...</td>\n",
       "      <td>...</td>\n",
       "      <td>...</td>\n",
       "      <td>...</td>\n",
       "      <td>...</td>\n",
       "      <td>...</td>\n",
       "      <td>...</td>\n",
       "      <td>...</td>\n",
       "      <td>...</td>\n",
       "      <td>...</td>\n",
       "    </tr>\n",
       "    <tr>\n",
       "      <th>1378</th>\n",
       "      <td>1</td>\n",
       "      <td>6</td>\n",
       "      <td>25.0</td>\n",
       "      <td>1</td>\n",
       "      <td>4</td>\n",
       "      <td>0</td>\n",
       "      <td>1</td>\n",
       "      <td>0</td>\n",
       "      <td>25.0</td>\n",
       "      <td>1</td>\n",
       "      <td>25.0</td>\n",
       "      <td>0</td>\n",
       "    </tr>\n",
       "    <tr>\n",
       "      <th>681</th>\n",
       "      <td>0</td>\n",
       "      <td>3</td>\n",
       "      <td>30.0</td>\n",
       "      <td>0</td>\n",
       "      <td>0</td>\n",
       "      <td>0</td>\n",
       "      <td>0</td>\n",
       "      <td>0</td>\n",
       "      <td>30.0</td>\n",
       "      <td>0</td>\n",
       "      <td>30.0</td>\n",
       "      <td>0</td>\n",
       "    </tr>\n",
       "    <tr>\n",
       "      <th>914</th>\n",
       "      <td>1</td>\n",
       "      <td>3</td>\n",
       "      <td>40.0</td>\n",
       "      <td>1</td>\n",
       "      <td>4</td>\n",
       "      <td>0</td>\n",
       "      <td>1</td>\n",
       "      <td>0</td>\n",
       "      <td>40.0</td>\n",
       "      <td>0</td>\n",
       "      <td>40.0</td>\n",
       "      <td>0</td>\n",
       "    </tr>\n",
       "    <tr>\n",
       "      <th>1197</th>\n",
       "      <td>1</td>\n",
       "      <td>6</td>\n",
       "      <td>16.0</td>\n",
       "      <td>1</td>\n",
       "      <td>4</td>\n",
       "      <td>0</td>\n",
       "      <td>1</td>\n",
       "      <td>0</td>\n",
       "      <td>16.0</td>\n",
       "      <td>0</td>\n",
       "      <td>16.0</td>\n",
       "      <td>0</td>\n",
       "    </tr>\n",
       "    <tr>\n",
       "      <th>796</th>\n",
       "      <td>0</td>\n",
       "      <td>3</td>\n",
       "      <td>34.0</td>\n",
       "      <td>1</td>\n",
       "      <td>1</td>\n",
       "      <td>0</td>\n",
       "      <td>1</td>\n",
       "      <td>0</td>\n",
       "      <td>34.0</td>\n",
       "      <td>0</td>\n",
       "      <td>34.0</td>\n",
       "      <td>0</td>\n",
       "    </tr>\n",
       "  </tbody>\n",
       "</table>\n",
       "<p>500 rows × 12 columns</p>\n",
       "</div>"
      ],
      "text/plain": [
       "      Sex  EthnicAppearance_cleaned   Age  InitialRisk  AccHowKnown  Known 1  \\\n",
       "2032    0                         6  48.0            1            0        0   \n",
       "1714    0                         6  36.0            1            1        0   \n",
       "2283    0                         7  37.0            1            0        0   \n",
       "1005    0                         3  46.0            0            1        0   \n",
       "286     0                         2  58.0            1            2        1   \n",
       "...   ...                       ...   ...          ...          ...      ...   \n",
       "1378    1                         6  25.0            1            4        0   \n",
       "681     0                         3  30.0            0            0        0   \n",
       "914     1                         3  40.0            1            4        0   \n",
       "1197    1                         6  16.0            1            4        0   \n",
       "796     0                         3  34.0            1            1        0   \n",
       "\n",
       "      Known 2  ProceedingsType  Crimes in pre  Crimes in pre 1  DV in Pre  \\\n",
       "2032        0                0           48.0                0       48.0   \n",
       "1714        1                0           36.0                0       36.0   \n",
       "2283        0                0           37.0                0       37.0   \n",
       "1005        1                0           46.0                0       46.0   \n",
       "286         1                0           58.0                0       58.0   \n",
       "...       ...              ...            ...              ...        ...   \n",
       "1378        1                0           25.0                1       25.0   \n",
       "681         0                0           30.0                0       30.0   \n",
       "914         1                0           40.0                0       40.0   \n",
       "1197        1                0           16.0                0       16.0   \n",
       "796         1                0           34.0                0       34.0   \n",
       "\n",
       "      DV in Pre 1  \n",
       "2032            0  \n",
       "1714            0  \n",
       "2283            0  \n",
       "1005            0  \n",
       "286             0  \n",
       "...           ...  \n",
       "1378            0  \n",
       "681             0  \n",
       "914             0  \n",
       "1197            0  \n",
       "796             0  \n",
       "\n",
       "[500 rows x 12 columns]"
      ]
     },
     "execution_count": 15,
     "metadata": {},
     "output_type": "execute_result"
    }
   ],
   "source": [
    "X_test"
   ]
  },
  {
   "cell_type": "code",
   "execution_count": 16,
   "id": "bce699e9-9d98-4978-842f-5cd1789b29cc",
   "metadata": {},
   "outputs": [
    {
     "data": {
      "text/plain": [
       "Homicide\n",
       "0    1810\n",
       "1     190\n",
       "Name: count, dtype: int64"
      ]
     },
     "execution_count": 16,
     "metadata": {},
     "output_type": "execute_result"
    }
   ],
   "source": [
    "#Initial homicide count\n",
    "y_train.value_counts()"
   ]
  },
  {
   "cell_type": "code",
   "execution_count": 17,
   "id": "6737987f-776c-420f-b370-a623f7276116",
   "metadata": {},
   "outputs": [
    {
     "data": {
      "text/plain": [
       "Homicide\n",
       "0    1810\n",
       "1    1810\n",
       "Name: count, dtype: int64"
      ]
     },
     "execution_count": 17,
     "metadata": {},
     "output_type": "execute_result"
    }
   ],
   "source": [
    "#Fixes dataset imbalance (see module on decision trees)\n",
    "from imblearn.over_sampling import SMOTE\n",
    "smote_resampler = SMOTE()\n",
    "X_train, y_train = smote_resampler.fit_resample(X_train, y_train)\n",
    "\n",
    "#New homicide count - much more balanced\n",
    "y_train.value_counts()"
   ]
  },
  {
   "cell_type": "markdown",
   "id": "82b0a8fd-85d2-4535-83fe-17c612a20ff9",
   "metadata": {
    "tags": []
   },
   "source": [
    "## 4 | Create Neural Network"
   ]
  },
  {
   "cell_type": "code",
   "execution_count": 18,
   "id": "b7c3dda1",
   "metadata": {},
   "outputs": [
    {
     "data": {
      "text/html": [
       "<pre style=\"white-space:pre;overflow-x:auto;line-height:normal;font-family:Menlo,'DejaVu Sans Mono',consolas,'Courier New',monospace\"><span style=\"font-weight: bold\">Model: \"sequential\"</span>\n",
       "</pre>\n"
      ],
      "text/plain": [
       "\u001b[1mModel: \"sequential\"\u001b[0m\n"
      ]
     },
     "metadata": {},
     "output_type": "display_data"
    },
    {
     "data": {
      "text/html": [
       "<pre style=\"white-space:pre;overflow-x:auto;line-height:normal;font-family:Menlo,'DejaVu Sans Mono',consolas,'Courier New',monospace\">┏━━━━━━━━━━━━━━━━━━━━━━━━━━━━━━━━━┳━━━━━━━━━━━━━━━━━━━━━━━━┳━━━━━━━━━━━━━━━┓\n",
       "┃<span style=\"font-weight: bold\"> Layer (type)                    </span>┃<span style=\"font-weight: bold\"> Output Shape           </span>┃<span style=\"font-weight: bold\">       Param # </span>┃\n",
       "┡━━━━━━━━━━━━━━━━━━━━━━━━━━━━━━━━━╇━━━━━━━━━━━━━━━━━━━━━━━━╇━━━━━━━━━━━━━━━┩\n",
       "│ dense (<span style=\"color: #0087ff; text-decoration-color: #0087ff\">Dense</span>)                   │ (<span style=\"color: #00d7ff; text-decoration-color: #00d7ff\">None</span>, <span style=\"color: #00af00; text-decoration-color: #00af00\">128</span>)            │         <span style=\"color: #00af00; text-decoration-color: #00af00\">1,664</span> │\n",
       "├─────────────────────────────────┼────────────────────────┼───────────────┤\n",
       "│ dense_1 (<span style=\"color: #0087ff; text-decoration-color: #0087ff\">Dense</span>)                 │ (<span style=\"color: #00d7ff; text-decoration-color: #00d7ff\">None</span>, <span style=\"color: #00af00; text-decoration-color: #00af00\">1</span>)              │           <span style=\"color: #00af00; text-decoration-color: #00af00\">129</span> │\n",
       "└─────────────────────────────────┴────────────────────────┴───────────────┘\n",
       "</pre>\n"
      ],
      "text/plain": [
       "┏━━━━━━━━━━━━━━━━━━━━━━━━━━━━━━━━━┳━━━━━━━━━━━━━━━━━━━━━━━━┳━━━━━━━━━━━━━━━┓\n",
       "┃\u001b[1m \u001b[0m\u001b[1mLayer (type)                   \u001b[0m\u001b[1m \u001b[0m┃\u001b[1m \u001b[0m\u001b[1mOutput Shape          \u001b[0m\u001b[1m \u001b[0m┃\u001b[1m \u001b[0m\u001b[1m      Param #\u001b[0m\u001b[1m \u001b[0m┃\n",
       "┡━━━━━━━━━━━━━━━━━━━━━━━━━━━━━━━━━╇━━━━━━━━━━━━━━━━━━━━━━━━╇━━━━━━━━━━━━━━━┩\n",
       "│ dense (\u001b[38;5;33mDense\u001b[0m)                   │ (\u001b[38;5;45mNone\u001b[0m, \u001b[38;5;34m128\u001b[0m)            │         \u001b[38;5;34m1,664\u001b[0m │\n",
       "├─────────────────────────────────┼────────────────────────┼───────────────┤\n",
       "│ dense_1 (\u001b[38;5;33mDense\u001b[0m)                 │ (\u001b[38;5;45mNone\u001b[0m, \u001b[38;5;34m1\u001b[0m)              │           \u001b[38;5;34m129\u001b[0m │\n",
       "└─────────────────────────────────┴────────────────────────┴───────────────┘\n"
      ]
     },
     "metadata": {},
     "output_type": "display_data"
    },
    {
     "data": {
      "text/html": [
       "<pre style=\"white-space:pre;overflow-x:auto;line-height:normal;font-family:Menlo,'DejaVu Sans Mono',consolas,'Courier New',monospace\"><span style=\"font-weight: bold\"> Total params: </span><span style=\"color: #00af00; text-decoration-color: #00af00\">1,793</span> (7.00 KB)\n",
       "</pre>\n"
      ],
      "text/plain": [
       "\u001b[1m Total params: \u001b[0m\u001b[38;5;34m1,793\u001b[0m (7.00 KB)\n"
      ]
     },
     "metadata": {},
     "output_type": "display_data"
    },
    {
     "data": {
      "text/html": [
       "<pre style=\"white-space:pre;overflow-x:auto;line-height:normal;font-family:Menlo,'DejaVu Sans Mono',consolas,'Courier New',monospace\"><span style=\"font-weight: bold\"> Trainable params: </span><span style=\"color: #00af00; text-decoration-color: #00af00\">1,793</span> (7.00 KB)\n",
       "</pre>\n"
      ],
      "text/plain": [
       "\u001b[1m Trainable params: \u001b[0m\u001b[38;5;34m1,793\u001b[0m (7.00 KB)\n"
      ]
     },
     "metadata": {},
     "output_type": "display_data"
    },
    {
     "data": {
      "text/html": [
       "<pre style=\"white-space:pre;overflow-x:auto;line-height:normal;font-family:Menlo,'DejaVu Sans Mono',consolas,'Courier New',monospace\"><span style=\"font-weight: bold\"> Non-trainable params: </span><span style=\"color: #00af00; text-decoration-color: #00af00\">0</span> (0.00 B)\n",
       "</pre>\n"
      ],
      "text/plain": [
       "\u001b[1m Non-trainable params: \u001b[0m\u001b[38;5;34m0\u001b[0m (0.00 B)\n"
      ]
     },
     "metadata": {},
     "output_type": "display_data"
    }
   ],
   "source": [
    "#Create a neural network for binary classification:\n",
    "from keras.models import Sequential\n",
    "from keras.layers import Dense\n",
    "import keras as keras\n",
    "\n",
    "model = Sequential() \n",
    "model.add(Dense(128, activation='relu', input_dim=12))\n",
    "model.add(Dense(1, activation='sigmoid')) \n",
    "model.compile(loss='binary_crossentropy', optimizer='adam', metrics=[keras.metrics.Precision(), keras.metrics.BinaryAccuracy()]) \n",
    "model.summary()"
   ]
  },
  {
   "cell_type": "markdown",
   "id": "faeb3774",
   "metadata": {},
   "source": [
    "The next step is to train the model. Notice the validation_data parameter passed to fit, which uses the test data split off from the larger dataset to assess the model’s accuracy as training takes place:"
   ]
  },
  {
   "cell_type": "code",
   "execution_count": 19,
   "id": "d8f46b12",
   "metadata": {},
   "outputs": [
    {
     "name": "stdout",
     "output_type": "stream",
     "text": [
      "Epoch 1/100\n",
      "\u001b[1m37/37\u001b[0m \u001b[32m━━━━━━━━━━━━━━━━━━━━\u001b[0m\u001b[37m\u001b[0m \u001b[1m2s\u001b[0m 9ms/step - binary_accuracy: 0.4939 - loss: 1.7912 - precision: 0.4925 - val_binary_accuracy: 0.5840 - val_loss: 0.6698 - val_precision: 0.1357\n",
      "Epoch 2/100\n",
      "\u001b[1m37/37\u001b[0m \u001b[32m━━━━━━━━━━━━━━━━━━━━\u001b[0m\u001b[37m\u001b[0m \u001b[1m0s\u001b[0m 2ms/step - binary_accuracy: 0.5914 - loss: 0.6579 - precision: 0.5945 - val_binary_accuracy: 0.6080 - val_loss: 0.6438 - val_precision: 0.1256\n",
      "Epoch 3/100\n",
      "\u001b[1m37/37\u001b[0m \u001b[32m━━━━━━━━━━━━━━━━━━━━\u001b[0m\u001b[37m\u001b[0m \u001b[1m0s\u001b[0m 2ms/step - binary_accuracy: 0.6816 - loss: 0.6030 - precision: 0.6692 - val_binary_accuracy: 0.6980 - val_loss: 0.5812 - val_precision: 0.1533\n",
      "Epoch 4/100\n",
      "\u001b[1m37/37\u001b[0m \u001b[32m━━━━━━━━━━━━━━━━━━━━\u001b[0m\u001b[37m\u001b[0m \u001b[1m0s\u001b[0m 2ms/step - binary_accuracy: 0.7082 - loss: 0.5793 - precision: 0.7104 - val_binary_accuracy: 0.5720 - val_loss: 0.6687 - val_precision: 0.1187\n",
      "Epoch 5/100\n",
      "\u001b[1m37/37\u001b[0m \u001b[32m━━━━━━━━━━━━━━━━━━━━\u001b[0m\u001b[37m\u001b[0m \u001b[1m0s\u001b[0m 2ms/step - binary_accuracy: 0.7182 - loss: 0.5531 - precision: 0.7103 - val_binary_accuracy: 0.6920 - val_loss: 0.5707 - val_precision: 0.1592\n",
      "Epoch 6/100\n",
      "\u001b[1m37/37\u001b[0m \u001b[32m━━━━━━━━━━━━━━━━━━━━\u001b[0m\u001b[37m\u001b[0m \u001b[1m0s\u001b[0m 2ms/step - binary_accuracy: 0.7373 - loss: 0.5439 - precision: 0.7420 - val_binary_accuracy: 0.6340 - val_loss: 0.6239 - val_precision: 0.1383\n",
      "Epoch 7/100\n",
      "\u001b[1m37/37\u001b[0m \u001b[32m━━━━━━━━━━━━━━━━━━━━\u001b[0m\u001b[37m\u001b[0m \u001b[1m0s\u001b[0m 2ms/step - binary_accuracy: 0.7487 - loss: 0.5217 - precision: 0.7459 - val_binary_accuracy: 0.7220 - val_loss: 0.5312 - val_precision: 0.1667\n",
      "Epoch 8/100\n",
      "\u001b[1m37/37\u001b[0m \u001b[32m━━━━━━━━━━━━━━━━━━━━\u001b[0m\u001b[37m\u001b[0m \u001b[1m0s\u001b[0m 2ms/step - binary_accuracy: 0.7335 - loss: 0.5266 - precision: 0.7401 - val_binary_accuracy: 0.7060 - val_loss: 0.5530 - val_precision: 0.1575\n",
      "Epoch 9/100\n",
      "\u001b[1m37/37\u001b[0m \u001b[32m━━━━━━━━━━━━━━━━━━━━\u001b[0m\u001b[37m\u001b[0m \u001b[1m0s\u001b[0m 2ms/step - binary_accuracy: 0.7490 - loss: 0.5194 - precision: 0.7445 - val_binary_accuracy: 0.7680 - val_loss: 0.4788 - val_precision: 0.1835\n",
      "Epoch 10/100\n",
      "\u001b[1m37/37\u001b[0m \u001b[32m━━━━━━━━━━━━━━━━━━━━\u001b[0m\u001b[37m\u001b[0m \u001b[1m0s\u001b[0m 2ms/step - binary_accuracy: 0.7463 - loss: 0.5272 - precision: 0.7434 - val_binary_accuracy: 0.6360 - val_loss: 0.6598 - val_precision: 0.1351\n",
      "Epoch 11/100\n",
      "\u001b[1m37/37\u001b[0m \u001b[32m━━━━━━━━━━━━━━━━━━━━\u001b[0m\u001b[37m\u001b[0m \u001b[1m0s\u001b[0m 2ms/step - binary_accuracy: 0.7647 - loss: 0.4956 - precision: 0.7644 - val_binary_accuracy: 0.6840 - val_loss: 0.5845 - val_precision: 0.1465\n",
      "Epoch 12/100\n",
      "\u001b[1m37/37\u001b[0m \u001b[32m━━━━━━━━━━━━━━━━━━━━\u001b[0m\u001b[37m\u001b[0m \u001b[1m0s\u001b[0m 2ms/step - binary_accuracy: 0.7573 - loss: 0.5068 - precision: 0.7603 - val_binary_accuracy: 0.7520 - val_loss: 0.5037 - val_precision: 0.1765\n",
      "Epoch 13/100\n",
      "\u001b[1m37/37\u001b[0m \u001b[32m━━━━━━━━━━━━━━━━━━━━\u001b[0m\u001b[37m\u001b[0m \u001b[1m0s\u001b[0m 2ms/step - binary_accuracy: 0.7554 - loss: 0.5137 - precision: 0.7582 - val_binary_accuracy: 0.6460 - val_loss: 0.6545 - val_precision: 0.1307\n",
      "Epoch 14/100\n",
      "\u001b[1m37/37\u001b[0m \u001b[32m━━━━━━━━━━━━━━━━━━━━\u001b[0m\u001b[37m\u001b[0m \u001b[1m0s\u001b[0m 2ms/step - binary_accuracy: 0.7494 - loss: 0.5082 - precision: 0.7363 - val_binary_accuracy: 0.6240 - val_loss: 0.6840 - val_precision: 0.1309\n",
      "Epoch 15/100\n",
      "\u001b[1m37/37\u001b[0m \u001b[32m━━━━━━━━━━━━━━━━━━━━\u001b[0m\u001b[37m\u001b[0m \u001b[1m0s\u001b[0m 2ms/step - binary_accuracy: 0.7479 - loss: 0.5217 - precision: 0.7420 - val_binary_accuracy: 0.7080 - val_loss: 0.5550 - val_precision: 0.1586\n",
      "Epoch 16/100\n",
      "\u001b[1m37/37\u001b[0m \u001b[32m━━━━━━━━━━━━━━━━━━━━\u001b[0m\u001b[37m\u001b[0m \u001b[1m0s\u001b[0m 2ms/step - binary_accuracy: 0.7399 - loss: 0.5183 - precision: 0.7322 - val_binary_accuracy: 0.7240 - val_loss: 0.5438 - val_precision: 0.1630\n",
      "Epoch 17/100\n",
      "\u001b[1m37/37\u001b[0m \u001b[32m━━━━━━━━━━━━━━━━━━━━\u001b[0m\u001b[37m\u001b[0m \u001b[1m0s\u001b[0m 2ms/step - binary_accuracy: 0.7687 - loss: 0.4903 - precision: 0.7583 - val_binary_accuracy: 0.6160 - val_loss: 0.7005 - val_precision: 0.1320\n",
      "Epoch 18/100\n",
      "\u001b[1m37/37\u001b[0m \u001b[32m━━━━━━━━━━━━━━━━━━━━\u001b[0m\u001b[37m\u001b[0m \u001b[1m0s\u001b[0m 2ms/step - binary_accuracy: 0.7476 - loss: 0.5124 - precision: 0.7342 - val_binary_accuracy: 0.6520 - val_loss: 0.6305 - val_precision: 0.1329\n",
      "Epoch 19/100\n",
      "\u001b[1m37/37\u001b[0m \u001b[32m━━━━━━━━━━━━━━━━━━━━\u001b[0m\u001b[37m\u001b[0m \u001b[1m0s\u001b[0m 2ms/step - binary_accuracy: 0.7540 - loss: 0.5073 - precision: 0.7429 - val_binary_accuracy: 0.6700 - val_loss: 0.6077 - val_precision: 0.1402\n",
      "Epoch 20/100\n",
      "\u001b[1m37/37\u001b[0m \u001b[32m━━━━━━━━━━━━━━━━━━━━\u001b[0m\u001b[37m\u001b[0m \u001b[1m0s\u001b[0m 2ms/step - binary_accuracy: 0.7571 - loss: 0.5043 - precision: 0.7501 - val_binary_accuracy: 0.7940 - val_loss: 0.4478 - val_precision: 0.1957\n",
      "Epoch 21/100\n",
      "\u001b[1m37/37\u001b[0m \u001b[32m━━━━━━━━━━━━━━━━━━━━\u001b[0m\u001b[37m\u001b[0m \u001b[1m0s\u001b[0m 2ms/step - binary_accuracy: 0.7663 - loss: 0.4975 - precision: 0.7698 - val_binary_accuracy: 0.8020 - val_loss: 0.4452 - val_precision: 0.1579\n",
      "Epoch 22/100\n",
      "\u001b[1m37/37\u001b[0m \u001b[32m━━━━━━━━━━━━━━━━━━━━\u001b[0m\u001b[37m\u001b[0m \u001b[1m0s\u001b[0m 2ms/step - binary_accuracy: 0.7657 - loss: 0.4966 - precision: 0.7591 - val_binary_accuracy: 0.7540 - val_loss: 0.5158 - val_precision: 0.1833\n",
      "Epoch 23/100\n",
      "\u001b[1m37/37\u001b[0m \u001b[32m━━━━━━━━━━━━━━━━━━━━\u001b[0m\u001b[37m\u001b[0m \u001b[1m0s\u001b[0m 2ms/step - binary_accuracy: 0.7736 - loss: 0.4969 - precision: 0.7608 - val_binary_accuracy: 0.6740 - val_loss: 0.6003 - val_precision: 0.1463\n",
      "Epoch 24/100\n",
      "\u001b[1m37/37\u001b[0m \u001b[32m━━━━━━━━━━━━━━━━━━━━\u001b[0m\u001b[37m\u001b[0m \u001b[1m0s\u001b[0m 2ms/step - binary_accuracy: 0.7672 - loss: 0.4883 - precision: 0.7583 - val_binary_accuracy: 0.7360 - val_loss: 0.5319 - val_precision: 0.1654\n",
      "Epoch 25/100\n",
      "\u001b[1m37/37\u001b[0m \u001b[32m━━━━━━━━━━━━━━━━━━━━\u001b[0m\u001b[37m\u001b[0m \u001b[1m0s\u001b[0m 2ms/step - binary_accuracy: 0.7693 - loss: 0.4776 - precision: 0.7636 - val_binary_accuracy: 0.7040 - val_loss: 0.5680 - val_precision: 0.1611\n",
      "Epoch 26/100\n",
      "\u001b[1m37/37\u001b[0m \u001b[32m━━━━━━━━━━━━━━━━━━━━\u001b[0m\u001b[37m\u001b[0m \u001b[1m0s\u001b[0m 2ms/step - binary_accuracy: 0.7660 - loss: 0.4851 - precision: 0.7540 - val_binary_accuracy: 0.7960 - val_loss: 0.4626 - val_precision: 0.1978\n",
      "Epoch 27/100\n",
      "\u001b[1m37/37\u001b[0m \u001b[32m━━━━━━━━━━━━━━━━━━━━\u001b[0m\u001b[37m\u001b[0m \u001b[1m0s\u001b[0m 2ms/step - binary_accuracy: 0.7758 - loss: 0.4876 - precision: 0.7728 - val_binary_accuracy: 0.6860 - val_loss: 0.5686 - val_precision: 0.1519\n",
      "Epoch 28/100\n",
      "\u001b[1m37/37\u001b[0m \u001b[32m━━━━━━━━━━━━━━━━━━━━\u001b[0m\u001b[37m\u001b[0m \u001b[1m0s\u001b[0m 2ms/step - binary_accuracy: 0.7675 - loss: 0.4795 - precision: 0.7596 - val_binary_accuracy: 0.6960 - val_loss: 0.5648 - val_precision: 0.1569\n",
      "Epoch 29/100\n",
      "\u001b[1m37/37\u001b[0m \u001b[32m━━━━━━━━━━━━━━━━━━━━\u001b[0m\u001b[37m\u001b[0m \u001b[1m0s\u001b[0m 2ms/step - binary_accuracy: 0.7621 - loss: 0.4870 - precision: 0.7533 - val_binary_accuracy: 0.7480 - val_loss: 0.5085 - val_precision: 0.1789\n",
      "Epoch 30/100\n",
      "\u001b[1m37/37\u001b[0m \u001b[32m━━━━━━━━━━━━━━━━━━━━\u001b[0m\u001b[37m\u001b[0m \u001b[1m0s\u001b[0m 2ms/step - binary_accuracy: 0.7702 - loss: 0.4892 - precision: 0.7759 - val_binary_accuracy: 0.6880 - val_loss: 0.5688 - val_precision: 0.1484\n",
      "Epoch 31/100\n",
      "\u001b[1m37/37\u001b[0m \u001b[32m━━━━━━━━━━━━━━━━━━━━\u001b[0m\u001b[37m\u001b[0m \u001b[1m0s\u001b[0m 2ms/step - binary_accuracy: 0.7614 - loss: 0.5055 - precision: 0.7545 - val_binary_accuracy: 0.6820 - val_loss: 0.5866 - val_precision: 0.1500\n",
      "Epoch 32/100\n",
      "\u001b[1m37/37\u001b[0m \u001b[32m━━━━━━━━━━━━━━━━━━━━\u001b[0m\u001b[37m\u001b[0m \u001b[1m0s\u001b[0m 2ms/step - binary_accuracy: 0.7735 - loss: 0.4643 - precision: 0.7656 - val_binary_accuracy: 0.7680 - val_loss: 0.4938 - val_precision: 0.1947\n",
      "Epoch 33/100\n",
      "\u001b[1m37/37\u001b[0m \u001b[32m━━━━━━━━━━━━━━━━━━━━\u001b[0m\u001b[37m\u001b[0m \u001b[1m0s\u001b[0m 2ms/step - binary_accuracy: 0.7762 - loss: 0.4847 - precision: 0.7795 - val_binary_accuracy: 0.6940 - val_loss: 0.5721 - val_precision: 0.1558\n",
      "Epoch 34/100\n",
      "\u001b[1m37/37\u001b[0m \u001b[32m━━━━━━━━━━━━━━━━━━━━\u001b[0m\u001b[37m\u001b[0m \u001b[1m0s\u001b[0m 2ms/step - binary_accuracy: 0.7670 - loss: 0.4938 - precision: 0.7589 - val_binary_accuracy: 0.7800 - val_loss: 0.4787 - val_precision: 0.1942\n",
      "Epoch 35/100\n",
      "\u001b[1m37/37\u001b[0m \u001b[32m━━━━━━━━━━━━━━━━━━━━\u001b[0m\u001b[37m\u001b[0m \u001b[1m0s\u001b[0m 2ms/step - binary_accuracy: 0.7704 - loss: 0.4838 - precision: 0.7638 - val_binary_accuracy: 0.6940 - val_loss: 0.5694 - val_precision: 0.1513\n",
      "Epoch 36/100\n",
      "\u001b[1m37/37\u001b[0m \u001b[32m━━━━━━━━━━━━━━━━━━━━\u001b[0m\u001b[37m\u001b[0m \u001b[1m0s\u001b[0m 2ms/step - binary_accuracy: 0.7706 - loss: 0.4834 - precision: 0.7652 - val_binary_accuracy: 0.7900 - val_loss: 0.4671 - val_precision: 0.2041\n",
      "Epoch 37/100\n",
      "\u001b[1m37/37\u001b[0m \u001b[32m━━━━━━━━━━━━━━━━━━━━\u001b[0m\u001b[37m\u001b[0m \u001b[1m0s\u001b[0m 2ms/step - binary_accuracy: 0.7806 - loss: 0.4687 - precision: 0.7758 - val_binary_accuracy: 0.6440 - val_loss: 0.6204 - val_precision: 0.1341\n",
      "Epoch 38/100\n",
      "\u001b[1m37/37\u001b[0m \u001b[32m━━━━━━━━━━━━━━━━━━━━\u001b[0m\u001b[37m\u001b[0m \u001b[1m0s\u001b[0m 2ms/step - binary_accuracy: 0.7727 - loss: 0.4682 - precision: 0.7672 - val_binary_accuracy: 0.8000 - val_loss: 0.4357 - val_precision: 0.1954\n",
      "Epoch 39/100\n",
      "\u001b[1m37/37\u001b[0m \u001b[32m━━━━━━━━━━━━━━━━━━━━\u001b[0m\u001b[37m\u001b[0m \u001b[1m0s\u001b[0m 2ms/step - binary_accuracy: 0.7751 - loss: 0.4710 - precision: 0.7747 - val_binary_accuracy: 0.7420 - val_loss: 0.5068 - val_precision: 0.1746\n",
      "Epoch 40/100\n",
      "\u001b[1m37/37\u001b[0m \u001b[32m━━━━━━━━━━━━━━━━━━━━\u001b[0m\u001b[37m\u001b[0m \u001b[1m0s\u001b[0m 2ms/step - binary_accuracy: 0.7945 - loss: 0.4583 - precision: 0.7923 - val_binary_accuracy: 0.6460 - val_loss: 0.6291 - val_precision: 0.1429\n",
      "Epoch 41/100\n",
      "\u001b[1m37/37\u001b[0m \u001b[32m━━━━━━━━━━━━━━━━━━━━\u001b[0m\u001b[37m\u001b[0m \u001b[1m0s\u001b[0m 2ms/step - binary_accuracy: 0.7635 - loss: 0.5063 - precision: 0.7614 - val_binary_accuracy: 0.7940 - val_loss: 0.4516 - val_precision: 0.1818\n",
      "Epoch 42/100\n",
      "\u001b[1m37/37\u001b[0m \u001b[32m━━━━━━━━━━━━━━━━━━━━\u001b[0m\u001b[37m\u001b[0m \u001b[1m0s\u001b[0m 2ms/step - binary_accuracy: 0.7678 - loss: 0.4821 - precision: 0.7714 - val_binary_accuracy: 0.6100 - val_loss: 0.6997 - val_precision: 0.1337\n",
      "Epoch 43/100\n",
      "\u001b[1m37/37\u001b[0m \u001b[32m━━━━━━━━━━━━━━━━━━━━\u001b[0m\u001b[37m\u001b[0m \u001b[1m0s\u001b[0m 2ms/step - binary_accuracy: 0.7618 - loss: 0.4913 - precision: 0.7450 - val_binary_accuracy: 0.7460 - val_loss: 0.5132 - val_precision: 0.1721\n",
      "Epoch 44/100\n",
      "\u001b[1m37/37\u001b[0m \u001b[32m━━━━━━━━━━━━━━━━━━━━\u001b[0m\u001b[37m\u001b[0m \u001b[1m0s\u001b[0m 2ms/step - binary_accuracy: 0.7769 - loss: 0.4693 - precision: 0.7790 - val_binary_accuracy: 0.7560 - val_loss: 0.5133 - val_precision: 0.1739\n",
      "Epoch 45/100\n",
      "\u001b[1m37/37\u001b[0m \u001b[32m━━━━━━━━━━━━━━━━━━━━\u001b[0m\u001b[37m\u001b[0m \u001b[1m0s\u001b[0m 2ms/step - binary_accuracy: 0.7751 - loss: 0.4708 - precision: 0.7885 - val_binary_accuracy: 0.7660 - val_loss: 0.4953 - val_precision: 0.1818\n",
      "Epoch 46/100\n",
      "\u001b[1m37/37\u001b[0m \u001b[32m━━━━━━━━━━━━━━━━━━━━\u001b[0m\u001b[37m\u001b[0m \u001b[1m0s\u001b[0m 2ms/step - binary_accuracy: 0.7670 - loss: 0.4773 - precision: 0.7601 - val_binary_accuracy: 0.7620 - val_loss: 0.5085 - val_precision: 0.1897\n",
      "Epoch 47/100\n",
      "\u001b[1m37/37\u001b[0m \u001b[32m━━━━━━━━━━━━━━━━━━━━\u001b[0m\u001b[37m\u001b[0m \u001b[1m0s\u001b[0m 2ms/step - binary_accuracy: 0.7739 - loss: 0.4702 - precision: 0.7800 - val_binary_accuracy: 0.6660 - val_loss: 0.6215 - val_precision: 0.1552\n",
      "Epoch 48/100\n",
      "\u001b[1m37/37\u001b[0m \u001b[32m━━━━━━━━━━━━━━━━━━━━\u001b[0m\u001b[37m\u001b[0m \u001b[1m0s\u001b[0m 2ms/step - binary_accuracy: 0.7818 - loss: 0.4623 - precision: 0.7749 - val_binary_accuracy: 0.8180 - val_loss: 0.4066 - val_precision: 0.1562\n",
      "Epoch 49/100\n",
      "\u001b[1m37/37\u001b[0m \u001b[32m━━━━━━━━━━━━━━━━━━━━\u001b[0m\u001b[37m\u001b[0m \u001b[1m0s\u001b[0m 2ms/step - binary_accuracy: 0.7884 - loss: 0.4658 - precision: 0.7983 - val_binary_accuracy: 0.7860 - val_loss: 0.4544 - val_precision: 0.1875\n",
      "Epoch 50/100\n",
      "\u001b[1m37/37\u001b[0m \u001b[32m━━━━━━━━━━━━━━━━━━━━\u001b[0m\u001b[37m\u001b[0m \u001b[1m0s\u001b[0m 2ms/step - binary_accuracy: 0.7787 - loss: 0.4704 - precision: 0.7816 - val_binary_accuracy: 0.6760 - val_loss: 0.5764 - val_precision: 0.1429\n",
      "Epoch 51/100\n",
      "\u001b[1m37/37\u001b[0m \u001b[32m━━━━━━━━━━━━━━━━━━━━\u001b[0m\u001b[37m\u001b[0m \u001b[1m0s\u001b[0m 2ms/step - binary_accuracy: 0.7769 - loss: 0.4749 - precision: 0.7721 - val_binary_accuracy: 0.6860 - val_loss: 0.5759 - val_precision: 0.1474\n",
      "Epoch 52/100\n",
      "\u001b[1m37/37\u001b[0m \u001b[32m━━━━━━━━━━━━━━━━━━━━\u001b[0m\u001b[37m\u001b[0m \u001b[1m0s\u001b[0m 2ms/step - binary_accuracy: 0.7875 - loss: 0.4627 - precision: 0.7858 - val_binary_accuracy: 0.8060 - val_loss: 0.4248 - val_precision: 0.1429\n",
      "Epoch 53/100\n",
      "\u001b[1m37/37\u001b[0m \u001b[32m━━━━━━━━━━━━━━━━━━━━\u001b[0m\u001b[37m\u001b[0m \u001b[1m0s\u001b[0m 2ms/step - binary_accuracy: 0.7845 - loss: 0.4645 - precision: 0.7923 - val_binary_accuracy: 0.7840 - val_loss: 0.4681 - val_precision: 0.1856\n",
      "Epoch 54/100\n",
      "\u001b[1m37/37\u001b[0m \u001b[32m━━━━━━━━━━━━━━━━━━━━\u001b[0m\u001b[37m\u001b[0m \u001b[1m0s\u001b[0m 2ms/step - binary_accuracy: 0.7862 - loss: 0.4567 - precision: 0.7807 - val_binary_accuracy: 0.8000 - val_loss: 0.4472 - val_precision: 0.1807\n",
      "Epoch 55/100\n",
      "\u001b[1m37/37\u001b[0m \u001b[32m━━━━━━━━━━━━━━━━━━━━\u001b[0m\u001b[37m\u001b[0m \u001b[1m0s\u001b[0m 2ms/step - binary_accuracy: 0.7817 - loss: 0.4747 - precision: 0.7779 - val_binary_accuracy: 0.7440 - val_loss: 0.5116 - val_precision: 0.1707\n",
      "Epoch 56/100\n",
      "\u001b[1m37/37\u001b[0m \u001b[32m━━━━━━━━━━━━━━━━━━━━\u001b[0m\u001b[37m\u001b[0m \u001b[1m0s\u001b[0m 2ms/step - binary_accuracy: 0.7765 - loss: 0.4633 - precision: 0.7781 - val_binary_accuracy: 0.7800 - val_loss: 0.4727 - val_precision: 0.1818\n",
      "Epoch 57/100\n",
      "\u001b[1m37/37\u001b[0m \u001b[32m━━━━━━━━━━━━━━━━━━━━\u001b[0m\u001b[37m\u001b[0m \u001b[1m0s\u001b[0m 2ms/step - binary_accuracy: 0.7778 - loss: 0.4693 - precision: 0.7843 - val_binary_accuracy: 0.7220 - val_loss: 0.5616 - val_precision: 0.1714\n",
      "Epoch 58/100\n",
      "\u001b[1m37/37\u001b[0m \u001b[32m━━━━━━━━━━━━━━━━━━━━\u001b[0m\u001b[37m\u001b[0m \u001b[1m0s\u001b[0m 2ms/step - binary_accuracy: 0.7737 - loss: 0.4623 - precision: 0.7568 - val_binary_accuracy: 0.7560 - val_loss: 0.5157 - val_precision: 0.1795\n",
      "Epoch 59/100\n",
      "\u001b[1m37/37\u001b[0m \u001b[32m━━━━━━━━━━━━━━━━━━━━\u001b[0m\u001b[37m\u001b[0m \u001b[1m0s\u001b[0m 2ms/step - binary_accuracy: 0.7925 - loss: 0.4592 - precision: 0.7881 - val_binary_accuracy: 0.7720 - val_loss: 0.4935 - val_precision: 0.1810\n",
      "Epoch 60/100\n",
      "\u001b[1m37/37\u001b[0m \u001b[32m━━━━━━━━━━━━━━━━━━━━\u001b[0m\u001b[37m\u001b[0m \u001b[1m0s\u001b[0m 2ms/step - binary_accuracy: 0.7745 - loss: 0.4720 - precision: 0.7704 - val_binary_accuracy: 0.7600 - val_loss: 0.5272 - val_precision: 0.1826\n",
      "Epoch 61/100\n",
      "\u001b[1m37/37\u001b[0m \u001b[32m━━━━━━━━━━━━━━━━━━━━\u001b[0m\u001b[37m\u001b[0m \u001b[1m0s\u001b[0m 2ms/step - binary_accuracy: 0.7922 - loss: 0.4553 - precision: 0.7923 - val_binary_accuracy: 0.6940 - val_loss: 0.5965 - val_precision: 0.1646\n",
      "Epoch 62/100\n",
      "\u001b[1m37/37\u001b[0m \u001b[32m━━━━━━━━━━━━━━━━━━━━\u001b[0m\u001b[37m\u001b[0m \u001b[1m0s\u001b[0m 2ms/step - binary_accuracy: 0.7706 - loss: 0.4702 - precision: 0.7547 - val_binary_accuracy: 0.7280 - val_loss: 0.5402 - val_precision: 0.1654\n",
      "Epoch 63/100\n",
      "\u001b[1m37/37\u001b[0m \u001b[32m━━━━━━━━━━━━━━━━━━━━\u001b[0m\u001b[37m\u001b[0m \u001b[1m0s\u001b[0m 2ms/step - binary_accuracy: 0.7724 - loss: 0.4646 - precision: 0.7724 - val_binary_accuracy: 0.6300 - val_loss: 0.6151 - val_precision: 0.1368\n",
      "Epoch 64/100\n",
      "\u001b[1m37/37\u001b[0m \u001b[32m━━━━━━━━━━━━━━━━━━━━\u001b[0m\u001b[37m\u001b[0m \u001b[1m0s\u001b[0m 2ms/step - binary_accuracy: 0.7669 - loss: 0.4788 - precision: 0.7553 - val_binary_accuracy: 0.8100 - val_loss: 0.4222 - val_precision: 0.1471\n",
      "Epoch 65/100\n",
      "\u001b[1m37/37\u001b[0m \u001b[32m━━━━━━━━━━━━━━━━━━━━\u001b[0m\u001b[37m\u001b[0m \u001b[1m0s\u001b[0m 2ms/step - binary_accuracy: 0.7925 - loss: 0.4369 - precision: 0.7973 - val_binary_accuracy: 0.7620 - val_loss: 0.4987 - val_precision: 0.1667\n",
      "Epoch 66/100\n",
      "\u001b[1m37/37\u001b[0m \u001b[32m━━━━━━━━━━━━━━━━━━━━\u001b[0m\u001b[37m\u001b[0m \u001b[1m0s\u001b[0m 2ms/step - binary_accuracy: 0.7802 - loss: 0.4603 - precision: 0.7732 - val_binary_accuracy: 0.7060 - val_loss: 0.5810 - val_precision: 0.1711\n",
      "Epoch 67/100\n",
      "\u001b[1m37/37\u001b[0m \u001b[32m━━━━━━━━━━━━━━━━━━━━\u001b[0m\u001b[37m\u001b[0m \u001b[1m0s\u001b[0m 2ms/step - binary_accuracy: 0.7626 - loss: 0.4802 - precision: 0.7618 - val_binary_accuracy: 0.6840 - val_loss: 0.5863 - val_precision: 0.1553\n",
      "Epoch 68/100\n",
      "\u001b[1m37/37\u001b[0m \u001b[32m━━━━━━━━━━━━━━━━━━━━\u001b[0m\u001b[37m\u001b[0m \u001b[1m0s\u001b[0m 2ms/step - binary_accuracy: 0.7896 - loss: 0.4581 - precision: 0.7916 - val_binary_accuracy: 0.7180 - val_loss: 0.5441 - val_precision: 0.1594\n",
      "Epoch 69/100\n",
      "\u001b[1m37/37\u001b[0m \u001b[32m━━━━━━━━━━━━━━━━━━━━\u001b[0m\u001b[37m\u001b[0m \u001b[1m0s\u001b[0m 2ms/step - binary_accuracy: 0.7897 - loss: 0.4556 - precision: 0.7903 - val_binary_accuracy: 0.7040 - val_loss: 0.5741 - val_precision: 0.1699\n",
      "Epoch 70/100\n",
      "\u001b[1m37/37\u001b[0m \u001b[32m━━━━━━━━━━━━━━━━━━━━\u001b[0m\u001b[37m\u001b[0m \u001b[1m0s\u001b[0m 2ms/step - binary_accuracy: 0.7917 - loss: 0.4663 - precision: 0.7748 - val_binary_accuracy: 0.6460 - val_loss: 0.6268 - val_precision: 0.1505\n",
      "Epoch 71/100\n",
      "\u001b[1m37/37\u001b[0m \u001b[32m━━━━━━━━━━━━━━━━━━━━\u001b[0m\u001b[37m\u001b[0m \u001b[1m0s\u001b[0m 2ms/step - binary_accuracy: 0.7693 - loss: 0.4786 - precision: 0.7738 - val_binary_accuracy: 0.7460 - val_loss: 0.5234 - val_precision: 0.1774\n",
      "Epoch 72/100\n",
      "\u001b[1m37/37\u001b[0m \u001b[32m━━━━━━━━━━━━━━━━━━━━\u001b[0m\u001b[37m\u001b[0m \u001b[1m0s\u001b[0m 2ms/step - binary_accuracy: 0.7918 - loss: 0.4533 - precision: 0.7906 - val_binary_accuracy: 0.6220 - val_loss: 0.6420 - val_precision: 0.1340\n",
      "Epoch 73/100\n",
      "\u001b[1m37/37\u001b[0m \u001b[32m━━━━━━━━━━━━━━━━━━━━\u001b[0m\u001b[37m\u001b[0m \u001b[1m0s\u001b[0m 2ms/step - binary_accuracy: 0.7778 - loss: 0.4648 - precision: 0.7684 - val_binary_accuracy: 0.7920 - val_loss: 0.4531 - val_precision: 0.1798\n",
      "Epoch 74/100\n",
      "\u001b[1m37/37\u001b[0m \u001b[32m━━━━━━━━━━━━━━━━━━━━\u001b[0m\u001b[37m\u001b[0m \u001b[1m0s\u001b[0m 2ms/step - binary_accuracy: 0.7853 - loss: 0.4612 - precision: 0.7887 - val_binary_accuracy: 0.8000 - val_loss: 0.4340 - val_precision: 0.1558\n",
      "Epoch 75/100\n",
      "\u001b[1m37/37\u001b[0m \u001b[32m━━━━━━━━━━━━━━━━━━━━\u001b[0m\u001b[37m\u001b[0m \u001b[1m0s\u001b[0m 2ms/step - binary_accuracy: 0.7879 - loss: 0.4558 - precision: 0.7947 - val_binary_accuracy: 0.6360 - val_loss: 0.6030 - val_precision: 0.1311\n",
      "Epoch 76/100\n",
      "\u001b[1m37/37\u001b[0m \u001b[32m━━━━━━━━━━━━━━━━━━━━\u001b[0m\u001b[37m\u001b[0m \u001b[1m0s\u001b[0m 2ms/step - binary_accuracy: 0.7921 - loss: 0.4460 - precision: 0.7717 - val_binary_accuracy: 0.6500 - val_loss: 0.6179 - val_precision: 0.1484\n",
      "Epoch 77/100\n",
      "\u001b[1m37/37\u001b[0m \u001b[32m━━━━━━━━━━━━━━━━━━━━\u001b[0m\u001b[37m\u001b[0m \u001b[1m0s\u001b[0m 2ms/step - binary_accuracy: 0.7799 - loss: 0.4643 - precision: 0.7694 - val_binary_accuracy: 0.6320 - val_loss: 0.6258 - val_precision: 0.1451\n",
      "Epoch 78/100\n",
      "\u001b[1m37/37\u001b[0m \u001b[32m━━━━━━━━━━━━━━━━━━━━\u001b[0m\u001b[37m\u001b[0m \u001b[1m0s\u001b[0m 2ms/step - binary_accuracy: 0.7802 - loss: 0.4634 - precision: 0.7707 - val_binary_accuracy: 0.7700 - val_loss: 0.4968 - val_precision: 0.1731\n",
      "Epoch 79/100\n",
      "\u001b[1m37/37\u001b[0m \u001b[32m━━━━━━━━━━━━━━━━━━━━\u001b[0m\u001b[37m\u001b[0m \u001b[1m0s\u001b[0m 2ms/step - binary_accuracy: 0.7842 - loss: 0.4623 - precision: 0.7875 - val_binary_accuracy: 0.7800 - val_loss: 0.4712 - val_precision: 0.1684\n",
      "Epoch 80/100\n",
      "\u001b[1m37/37\u001b[0m \u001b[32m━━━━━━━━━━━━━━━━━━━━\u001b[0m\u001b[37m\u001b[0m \u001b[1m0s\u001b[0m 2ms/step - binary_accuracy: 0.7814 - loss: 0.4668 - precision: 0.7950 - val_binary_accuracy: 0.7860 - val_loss: 0.4541 - val_precision: 0.1591\n",
      "Epoch 81/100\n",
      "\u001b[1m37/37\u001b[0m \u001b[32m━━━━━━━━━━━━━━━━━━━━\u001b[0m\u001b[37m\u001b[0m \u001b[1m0s\u001b[0m 2ms/step - binary_accuracy: 0.7871 - loss: 0.4572 - precision: 0.8047 - val_binary_accuracy: 0.7660 - val_loss: 0.4979 - val_precision: 0.1759\n",
      "Epoch 82/100\n",
      "\u001b[1m37/37\u001b[0m \u001b[32m━━━━━━━━━━━━━━━━━━━━\u001b[0m\u001b[37m\u001b[0m \u001b[1m0s\u001b[0m 2ms/step - binary_accuracy: 0.7949 - loss: 0.4491 - precision: 0.8003 - val_binary_accuracy: 0.8100 - val_loss: 0.4301 - val_precision: 0.1667\n",
      "Epoch 83/100\n",
      "\u001b[1m37/37\u001b[0m \u001b[32m━━━━━━━━━━━━━━━━━━━━\u001b[0m\u001b[37m\u001b[0m \u001b[1m0s\u001b[0m 2ms/step - binary_accuracy: 0.7890 - loss: 0.4593 - precision: 0.7939 - val_binary_accuracy: 0.8300 - val_loss: 0.4030 - val_precision: 0.1724\n",
      "Epoch 84/100\n",
      "\u001b[1m37/37\u001b[0m \u001b[32m━━━━━━━━━━━━━━━━━━━━\u001b[0m\u001b[37m\u001b[0m \u001b[1m0s\u001b[0m 2ms/step - binary_accuracy: 0.7824 - loss: 0.4571 - precision: 0.7868 - val_binary_accuracy: 0.7760 - val_loss: 0.4817 - val_precision: 0.1717\n",
      "Epoch 85/100\n",
      "\u001b[1m37/37\u001b[0m \u001b[32m━━━━━━━━━━━━━━━━━━━━\u001b[0m\u001b[37m\u001b[0m \u001b[1m0s\u001b[0m 2ms/step - binary_accuracy: 0.7785 - loss: 0.4689 - precision: 0.7825 - val_binary_accuracy: 0.7860 - val_loss: 0.4743 - val_precision: 0.1809\n",
      "Epoch 86/100\n",
      "\u001b[1m37/37\u001b[0m \u001b[32m━━━━━━━━━━━━━━━━━━━━\u001b[0m\u001b[37m\u001b[0m \u001b[1m0s\u001b[0m 2ms/step - binary_accuracy: 0.7932 - loss: 0.4522 - precision: 0.7961 - val_binary_accuracy: 0.8120 - val_loss: 0.4166 - val_precision: 0.1493\n",
      "Epoch 87/100\n",
      "\u001b[1m37/37\u001b[0m \u001b[32m━━━━━━━━━━━━━━━━━━━━\u001b[0m\u001b[37m\u001b[0m \u001b[1m0s\u001b[0m 2ms/step - binary_accuracy: 0.7818 - loss: 0.4566 - precision: 0.7870 - val_binary_accuracy: 0.8200 - val_loss: 0.4174 - val_precision: 0.1692\n",
      "Epoch 88/100\n",
      "\u001b[1m37/37\u001b[0m \u001b[32m━━━━━━━━━━━━━━━━━━━━\u001b[0m\u001b[37m\u001b[0m \u001b[1m0s\u001b[0m 2ms/step - binary_accuracy: 0.7730 - loss: 0.4738 - precision: 0.7930 - val_binary_accuracy: 0.7920 - val_loss: 0.4583 - val_precision: 0.1481\n",
      "Epoch 89/100\n",
      "\u001b[1m37/37\u001b[0m \u001b[32m━━━━━━━━━━━━━━━━━━━━\u001b[0m\u001b[37m\u001b[0m \u001b[1m0s\u001b[0m 2ms/step - binary_accuracy: 0.7870 - loss: 0.4597 - precision: 0.7907 - val_binary_accuracy: 0.7680 - val_loss: 0.5008 - val_precision: 0.1835\n",
      "Epoch 90/100\n",
      "\u001b[1m37/37\u001b[0m \u001b[32m━━━━━━━━━━━━━━━━━━━━\u001b[0m\u001b[37m\u001b[0m \u001b[1m0s\u001b[0m 2ms/step - binary_accuracy: 0.7991 - loss: 0.4442 - precision: 0.7998 - val_binary_accuracy: 0.7700 - val_loss: 0.4938 - val_precision: 0.1667\n",
      "Epoch 91/100\n",
      "\u001b[1m37/37\u001b[0m \u001b[32m━━━━━━━━━━━━━━━━━━━━\u001b[0m\u001b[37m\u001b[0m \u001b[1m0s\u001b[0m 2ms/step - binary_accuracy: 0.7899 - loss: 0.4488 - precision: 0.7945 - val_binary_accuracy: 0.6740 - val_loss: 0.5860 - val_precision: 0.1420\n",
      "Epoch 92/100\n",
      "\u001b[1m37/37\u001b[0m \u001b[32m━━━━━━━━━━━━━━━━━━━━\u001b[0m\u001b[37m\u001b[0m \u001b[1m0s\u001b[0m 3ms/step - binary_accuracy: 0.7821 - loss: 0.4571 - precision: 0.7751 - val_binary_accuracy: 0.7840 - val_loss: 0.4669 - val_precision: 0.1720\n",
      "Epoch 93/100\n",
      "\u001b[1m37/37\u001b[0m \u001b[32m━━━━━━━━━━━━━━━━━━━━\u001b[0m\u001b[37m\u001b[0m \u001b[1m0s\u001b[0m 2ms/step - binary_accuracy: 0.7769 - loss: 0.4633 - precision: 0.7862 - val_binary_accuracy: 0.6160 - val_loss: 0.6658 - val_precision: 0.1393\n",
      "Epoch 94/100\n",
      "\u001b[1m37/37\u001b[0m \u001b[32m━━━━━━━━━━━━━━━━━━━━\u001b[0m\u001b[37m\u001b[0m \u001b[1m0s\u001b[0m 2ms/step - binary_accuracy: 0.7922 - loss: 0.4530 - precision: 0.7891 - val_binary_accuracy: 0.7920 - val_loss: 0.4525 - val_precision: 0.1724\n",
      "Epoch 95/100\n",
      "\u001b[1m37/37\u001b[0m \u001b[32m━━━━━━━━━━━━━━━━━━━━\u001b[0m\u001b[37m\u001b[0m \u001b[1m0s\u001b[0m 2ms/step - binary_accuracy: 0.7929 - loss: 0.4542 - precision: 0.7928 - val_binary_accuracy: 0.7860 - val_loss: 0.4531 - val_precision: 0.1591\n",
      "Epoch 96/100\n",
      "\u001b[1m37/37\u001b[0m \u001b[32m━━━━━━━━━━━━━━━━━━━━\u001b[0m\u001b[37m\u001b[0m \u001b[1m0s\u001b[0m 2ms/step - binary_accuracy: 0.7792 - loss: 0.4662 - precision: 0.7925 - val_binary_accuracy: 0.6100 - val_loss: 0.6931 - val_precision: 0.1373\n",
      "Epoch 97/100\n",
      "\u001b[1m37/37\u001b[0m \u001b[32m━━━━━━━━━━━━━━━━━━━━\u001b[0m\u001b[37m\u001b[0m \u001b[1m0s\u001b[0m 2ms/step - binary_accuracy: 0.7891 - loss: 0.4598 - precision: 0.7849 - val_binary_accuracy: 0.7560 - val_loss: 0.5368 - val_precision: 0.1795\n",
      "Epoch 98/100\n",
      "\u001b[1m37/37\u001b[0m \u001b[32m━━━━━━━━━━━━━━━━━━━━\u001b[0m\u001b[37m\u001b[0m \u001b[1m0s\u001b[0m 2ms/step - binary_accuracy: 0.7835 - loss: 0.4607 - precision: 0.7991 - val_binary_accuracy: 0.7820 - val_loss: 0.4983 - val_precision: 0.1771\n",
      "Epoch 99/100\n",
      "\u001b[1m37/37\u001b[0m \u001b[32m━━━━━━━━━━━━━━━━━━━━\u001b[0m\u001b[37m\u001b[0m \u001b[1m0s\u001b[0m 2ms/step - binary_accuracy: 0.8052 - loss: 0.4446 - precision: 0.8019 - val_binary_accuracy: 0.7960 - val_loss: 0.4616 - val_precision: 0.1765\n",
      "Epoch 100/100\n",
      "\u001b[1m37/37\u001b[0m \u001b[32m━━━━━━━━━━━━━━━━━━━━\u001b[0m\u001b[37m\u001b[0m \u001b[1m0s\u001b[0m 2ms/step - binary_accuracy: 0.8007 - loss: 0.4446 - precision: 0.7992 - val_binary_accuracy: 0.7840 - val_loss: 0.4646 - val_precision: 0.1720\n"
     ]
    }
   ],
   "source": [
    "#Trains the model.\n",
    "hist = model.fit(X_train, y_train, validation_data=(X_test, y_test), epochs=100, batch_size=100)"
   ]
  },
  {
   "cell_type": "markdown",
   "id": "1f677181",
   "metadata": {},
   "source": [
    "Now plot the training and validation accuracy using the per-epoch values in the history object:"
   ]
  },
  {
   "cell_type": "markdown",
   "id": "d810235e-e9de-4c0f-b7da-4611a7c1d381",
   "metadata": {},
   "source": [
    "First, let's plot how accuracy changed for each epoch"
   ]
  },
  {
   "cell_type": "markdown",
   "id": "766e4693-3fce-47f9-82c2-177bafd02537",
   "metadata": {
    "tags": []
   },
   "source": [
    "## 5 | Evaluate Neural Network"
   ]
  },
  {
   "cell_type": "markdown",
   "id": "0f3317fc-fdf6-4922-afe4-90d9c553ec6e",
   "metadata": {},
   "source": [
    "### 5.1 | Accuracy by Epoch"
   ]
  },
  {
   "cell_type": "code",
   "execution_count": 20,
   "id": "67eb539e-a983-48c3-81b8-1fb73984b8a5",
   "metadata": {},
   "outputs": [
    {
     "data": {
      "text/plain": [
       "[]"
      ]
     },
     "execution_count": 20,
     "metadata": {},
     "output_type": "execute_result"
    },
    {
     "data": {
      "image/png": "[encoded data removed]",
      "text/plain": [
       "<Figure size 640x480 with 1 Axes>"
      ]
     },
     "metadata": {},
     "output_type": "display_data"
    }
   ],
   "source": [
    "import matplotlib.pyplot as plt\n",
    "%matplotlib inline\n",
    "import seaborn as sns\n",
    "sns.set()\n",
    " \n",
    "acc = hist.history['binary_accuracy']\n",
    "val = hist.history['val_binary_accuracy']\n",
    "epochs = range(1, len(acc) + 1)\n",
    " \n",
    "plt.plot(epochs, acc, '-', label='Training accuracy')\n",
    "plt.plot(epochs, val, ':', label='Validation accuracy')\n",
    "plt.title('Training and Validation Precision')\n",
    "plt.xlabel('Epoch')\n",
    "plt.ylabel('Accuracy')\n",
    "plt.legend(loc='lower right')\n",
    "plt.plot()"
   ]
  },
  {
   "cell_type": "markdown",
   "id": "418c76af-a048-4f45-9fd3-5306088b2d82",
   "metadata": {},
   "source": [
    "It's a slow but steady increase, but maybe the better metric is precision. Precision measures the number of true positives relative to all positives. Let's see if it's consistent with the accuracy score."
   ]
  },
  {
   "cell_type": "markdown",
   "id": "7a4174c4-7ac8-4347-be6a-6e4c9eeeb54a",
   "metadata": {
    "tags": []
   },
   "source": [
    "### 5.2 | Precision by Epoch"
   ]
  },
  {
   "cell_type": "code",
   "execution_count": 21,
   "id": "30c64b8d-d9e5-45ce-8e8a-a9d480c1fff3",
   "metadata": {},
   "outputs": [
    {
     "data": {
      "text/plain": [
       "[]"
      ]
     },
     "execution_count": 21,
     "metadata": {},
     "output_type": "execute_result"
    },
    {
     "data": {
      "image/png": "[encoded data removed]",
      "text/plain": [
       "<Figure size 640x480 with 1 Axes>"
      ]
     },
     "metadata": {},
     "output_type": "display_data"
    }
   ],
   "source": [
    "import matplotlib.pyplot as plt\n",
    "%matplotlib inline\n",
    "import seaborn as sns\n",
    "sns.set()\n",
    " \n",
    "prec = hist.history['precision']\n",
    "val = hist.history['val_precision']\n",
    "epochs = range(1, len(acc) + 1)\n",
    " \n",
    "plt.plot(epochs, prec, '-', label='Training Precision')\n",
    "plt.plot(epochs, val, ':', label='Validation Precision')\n",
    "plt.title('Training and Validation Precision')\n",
    "plt.xlabel('Epoch')\n",
    "plt.ylabel('Accuracy')\n",
    "plt.legend(loc='lower right')\n",
    "plt.plot()"
   ]
  },
  {
   "cell_type": "markdown",
   "id": "af3da6bd-4b0d-4dde-83a1-b75dd9a31ca5",
   "metadata": {
    "tags": []
   },
   "source": [
    "### 5.3 | Loss by Epoch"
   ]
  },
  {
   "cell_type": "markdown",
   "id": "5d579e57-125f-4324-9a2b-e31cdf1ae891",
   "metadata": {},
   "source": [
    "Loss (also known as cost) is the amount of error generated by the neural network. As the neural network trains, the error produces (loss) should go down. \n",
    "\n",
    "The loss curve is powerful because it is perhaps the best way to visualize how a neural network trained. The shape of the curve, as well as how quickly the network reached asymptotic performance, gives powerful insights into how the neural network learned."
   ]
  },
  {
   "cell_type": "code",
   "execution_count": 22,
   "id": "1176cbb2-d0f0-499b-807e-e79bb0342408",
   "metadata": {},
   "outputs": [
    {
     "data": {
      "text/plain": [
       "[]"
      ]
     },
     "execution_count": 22,
     "metadata": {},
     "output_type": "execute_result"
    },
    {
     "data": {
      "image/png": "[encoded data removed]",
      "text/plain": [
       "<Figure size 640x480 with 1 Axes>"
      ]
     },
     "metadata": {},
     "output_type": "display_data"
    }
   ],
   "source": [
    "import matplotlib.pyplot as plt\n",
    "%matplotlib inline\n",
    "import seaborn as sns\n",
    "sns.set()\n",
    " \n",
    "prec = hist.history['loss']\n",
    "val = hist.history['val_precision']\n",
    "epochs = range(1, len(acc) + 1)\n",
    " \n",
    "plt.plot(epochs, prec, '-', label='Training Loss')\n",
    "plt.plot(epochs, val, ':', label='Validation Loss')\n",
    "plt.title('Training and Validation Loss')\n",
    "plt.xlabel('Epoch')\n",
    "plt.ylabel('Loss')\n",
    "plt.legend(loc='lower right')\n",
    "plt.plot()"
   ]
  },
  {
   "cell_type": "markdown",
   "id": "82e1f219-580a-49ca-b2d4-de003157fb64",
   "metadata": {},
   "source": [
    "The dataset experienced a rapid amount of learning early on, and then very quickly reached a sort of asymptotic performance. This suggests that the learning rate could have been set too high, and that the model will have difficulty reaching its true peak performance. Thus, future iterations of the network should decrease the learning rate."
   ]
  },
  {
   "cell_type": "markdown",
   "id": "60529e04-9f31-4886-a37d-4abca63de4ea",
   "metadata": {
    "tags": []
   },
   "source": [
    "### 5.4 | Confusion Matrix"
   ]
  },
  {
   "cell_type": "code",
   "execution_count": 23,
   "id": "d1f50647",
   "metadata": {},
   "outputs": [
    {
     "name": "stdout",
     "output_type": "stream",
     "text": [
      "\u001b[1m16/16\u001b[0m \u001b[32m━━━━━━━━━━━━━━━━━━━━\u001b[0m\u001b[37m\u001b[0m \u001b[1m0s\u001b[0m 3ms/step \n",
      "\u001b[1m16/16\u001b[0m \u001b[32m━━━━━━━━━━━━━━━━━━━━\u001b[0m\u001b[37m\u001b[0m \u001b[1m0s\u001b[0m 793us/step\n"
     ]
    },
    {
     "data": {
      "text/plain": [
       "2032    1\n",
       "1714    0\n",
       "2283    0\n",
       "1005    1\n",
       "286     1\n",
       "       ..\n",
       "1378    0\n",
       "681     0\n",
       "914     0\n",
       "1197    0\n",
       "796     0\n",
       "Name: Homicide, Length: 500, dtype: int64"
      ]
     },
     "execution_count": 23,
     "metadata": {},
     "output_type": "execute_result"
    }
   ],
   "source": [
    "from sklearn.metrics import confusion_matrix\n",
    "from sklearn.metrics import classification_report\n",
    "\n",
    "# see how these are numbers between 0 and 1? \n",
    "model.predict(X_test) # prob of successes (survival)\n",
    "np.round(model.predict(X_test),0) # 1 and 0 (survival or not)\n",
    "y_test # 1 and 0 (survival or not)"
   ]
  },
  {
   "cell_type": "code",
   "execution_count": 24,
   "id": "26225106",
   "metadata": {},
   "outputs": [
    {
     "name": "stdout",
     "output_type": "stream",
     "text": [
      "\u001b[1m16/16\u001b[0m \u001b[32m━━━━━━━━━━━━━━━━━━━━\u001b[0m\u001b[37m\u001b[0m \u001b[1m0s\u001b[0m 969us/step\n",
      "[[376  77]\n",
      " [ 31  16]]\n",
      "              precision    recall  f1-score   support\n",
      "\n",
      "           0       0.92      0.83      0.87       453\n",
      "           1       0.17      0.34      0.23        47\n",
      "\n",
      "    accuracy                           0.78       500\n",
      "   macro avg       0.55      0.59      0.55       500\n",
      "weighted avg       0.85      0.78      0.81       500\n",
      "\n"
     ]
    }
   ],
   "source": [
    "# so we need to round to a whole number (0 or 1),\n",
    "# or the confusion matrix won't work!\n",
    "preds = np.round(model.predict(X_test),0)\n",
    "\n",
    "# confusion matrix\n",
    "print(confusion_matrix(y_test, preds)) # order matters! (actual, predicted)\n",
    "\n",
    "#Key for understanding the matrix:\n",
    "#([TN, FP],\n",
    "# [Fn, TP])\n",
    "\n",
    "print(classification_report(y_test, preds))"
   ]
  },
  {
   "cell_type": "code",
   "execution_count": 25,
   "id": "2e08cc16",
   "metadata": {},
   "outputs": [
    {
     "name": "stdout",
     "output_type": "stream",
     "text": [
      "\u001b[1m16/16\u001b[0m \u001b[32m━━━━━━━━━━━━━━━━━━━━\u001b[0m\u001b[37m\u001b[0m \u001b[1m0s\u001b[0m 701us/step\n"
     ]
    },
    {
     "data": {
      "text/plain": [
       "Text(102.44999999999999, 0.5, 'Actual label')"
      ]
     },
     "execution_count": 25,
     "metadata": {},
     "output_type": "execute_result"
    },
    {
     "data": {
      "image/png": "[encoded data removed]",
      "text/plain": [
       "<Figure size 640x480 with 1 Axes>"
      ]
     },
     "metadata": {},
     "output_type": "display_data"
    }
   ],
   "source": [
    "from sklearn.metrics import confusion_matrix\n",
    " \n",
    "y_predicted = model.predict(X_test) > 0.5\n",
    "mat = confusion_matrix(y_test, y_predicted)\n",
    "labels = ['No Homicide', 'Homicide']\n",
    " \n",
    "sns.heatmap(mat, square=True, annot=True, fmt='d', cbar=False, cmap='Blues',\n",
    "            xticklabels=labels, yticklabels=labels)\n",
    " \n",
    "plt.xlabel('Predicted label')\n",
    "plt.ylabel('Actual label')"
   ]
  },
  {
   "cell_type": "markdown",
   "id": "b2b0b86b-d0e6-4038-88da-db70709d48d0",
   "metadata": {},
   "source": [
    "The model performs remarkably well. It is able to correctly identify more homicides than any other machine learning algorithm that we ahve used.\n",
    "\n",
    "The false positive rate is still relatively high, but this can be improved through more training and additional adjustment."
   ]
  }
 ],
 "metadata": {
  "kernelspec": {
   "display_name": "Python 3 (ipykernel)",
   "language": "python",
   "name": "python3"
  },
  "language_info": {
   "codemirror_mode": {
    "name": "ipython",
    "version": 3
   },
   "file_extension": ".py",
   "mimetype": "text/x-python",
   "name": "python",
   "nbconvert_exporter": "python",
   "pygments_lexer": "ipython3",
   "version": "3.12.4"
  }
 },
 "nbformat": 4,
 "nbformat_minor": 5
}
